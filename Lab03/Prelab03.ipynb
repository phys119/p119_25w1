{
 "cells": [
  {
   "cell_type": "markdown",
   "id": "518183bc-a091-4568-a016-ae4ac3f76c8c",
   "metadata": {
    "id": "518183bc-a091-4568-a016-ae4ac3f76c8c"
   },
   "source": [
    "# Lab 03 Prelab, Part 2 - Analysis preparation and data collection practice"
   ]
  },
  {
   "cell_type": "markdown",
   "id": "c09706c7-5926-4907-adfa-c9067bc9a00d",
   "metadata": {},
   "source": [
    "Please complete Part 1 of the prelab on Canvas before working through this notebook."
   ]
  },
  {
   "cell_type": "code",
   "execution_count": 3,
   "id": "4e142931-ccce-4ee2-a592-68019af67fd5",
   "metadata": {
    "id": "4e142931-ccce-4ee2-a592-68019af67fd5"
   },
   "outputs": [],
   "source": [
    "%reset -f \n",
    "# Clear all variables, start with a clean environment.\n",
    "import numpy as np\n",
    "import data_entry2"
   ]
  },
  {
   "cell_type": "markdown",
   "id": "732687db-903c-4002-84b8-a9af6bfe6673",
   "metadata": {
    "id": "732687db-903c-4002-84b8-a9af6bfe6673"
   },
   "source": [
    "This prelab activity introduces useful features of our spreadsheet tool, `data_entry2`, and then shows you how to use Python to calculate the quantities _mean_ (_average_), _standard deviation_, and _(standard) uncertainty of the mean_. "
   ]
  },
  {
   "cell_type": "markdown",
   "id": "eaeb910a-2970-4119-9502-1d186004228c",
   "metadata": {},
   "source": [
    "## Simple Calculations in data_entry2 cells"
   ]
  },
  {
   "cell_type": "markdown",
   "id": "bba062aa-fc5a-451c-b499-bd6cf24c724d",
   "metadata": {},
   "source": [
    "It is possible to do some simple calculations directly in the `data_entry2` sheet. In general we want you to do calculations in their own notebook cells, but for some tasks, most notably recording your uncertainties, it is very convenient to use this feature of the sheet.\n",
    "\n",
    "As an example, if you measure a mass of 497 g, and estimate a 95% confidence interval of [477, 516] g, you can record the mass and its uncertainty $dm$ in your spreadsheet like this:"
   ]
  },
  {
   "cell_type": "markdown",
   "id": "fe6aa860-b4b8-4862-a30f-6087cc10636e",
   "metadata": {},
   "source": [
    "| m | dm|\n",
    "| ------ | ------- |\n",
    "| g | g |\n",
    "| 497 | = (516-477)/4|\n"
   ]
  },
  {
   "cell_type": "markdown",
   "id": "4437b2f4-a3c6-4708-a244-245a781d912a",
   "metadata": {},
   "source": [
    "Alternatively, if you have a rectangular PDF on a balance with a 10 g resolution, you might use something like:"
   ]
  },
  {
   "cell_type": "markdown",
   "id": "4128f55b-980b-48da-af50-e357638e044c",
   "metadata": {},
   "source": [
    "| m | dm |\n",
    "| ------ | ------- |\n",
    "| g | g |\n",
    "| 142 | = 10/(2 * np.sqrt(3))|\n"
   ]
  },
  {
   "cell_type": "markdown",
   "id": "27e93933-d567-4acc-b971-11b5575fc9ff",
   "metadata": {},
   "source": [
    "**Your turn #1:**\n",
    "\n",
    "Use the sheet below to try calculating both of these forms of uncertainty within the sheet itself.\n",
    "- Enter a variable name, $m$ (in grams) for the first column, and $dm$ in the second column for the uncertainty. \n",
    "\n",
    "- In the next two rows, enter the measurements and expressions to calculate uncertainties as shown in the two examples above.\n",
    "\n",
    "- Notice that in the sheet interface, you see the formulas you've entered, but that when you `Generate Vectors`, the expressions are evaluated and the generated uncertainy vector contains the results of the calculations.\n",
    "\n",
    "- Alter one of the expressions in the uncertainty column so that it contains an error - perhaps add an extra ')' at the end of the expression to see what happens.\n",
    "\n",
    "- To get rid of unused rows and columns, execute (Shift+Enter) in the cell that you used to create the ```data_entry2``` sheet."
   ]
  },
  {
   "cell_type": "code",
   "execution_count": 4,
   "id": "c9888e54-a6ab-414c-b5d6-bde7a0416a88",
   "metadata": {},
   "outputs": [
    {
     "name": "stdout",
     "output_type": "stream",
     "text": [
      "Sheet name: test_formulas.csv\n"
     ]
    },
    {
     "data": {
      "application/vnd.jupyter.widget-view+json": {
       "model_id": "f26415cd602741929582ebeef163f0eb",
       "version_major": 2,
       "version_minor": 0
      },
      "text/plain": [
       "VBox(children=(HBox(children=(Button(description='Undo', style=ButtonStyle()), Button(description='Redo', styl…"
      ]
     },
     "metadata": {},
     "output_type": "display_data"
    }
   ],
   "source": [
    "de0 = data_entry2.sheet(\"test_formulas\")"
   ]
  },
  {
   "cell_type": "markdown",
   "id": "42e79d28-fc94-43fd-9703-59d9cf639822",
   "metadata": {
    "id": "42e79d28-fc94-43fd-9703-59d9cf639822",
    "tags": []
   },
   "source": [
    "## Summary of Part 1 of the prelab"
   ]
  },
  {
   "cell_type": "markdown",
   "id": "82c3f210-fbae-487a-a7d3-407925419bba",
   "metadata": {
    "id": "82c3f210-fbae-487a-a7d3-407925419bba"
   },
   "source": [
    "Here is a summary of the statistics concepts covered or reviewed in Part 1 of this prelab.\n",
    "\n",
    "For a distribution of **$N$ data points**:\n",
    "\n",
    "1. The **average** (or mean) is defined by:\n",
    "     \n",
    "$$\\bar{x} = \\frac{1}{N} \\sum_{i=1}^N x_i.$$\n",
    "\n",
    "2. The **standard deviation** is defined by:\n",
    "\n",
    "$$ \\sigma = \\sigma(x) = \\sqrt{\\frac{1}{N-1}\\sum_{i=1}^N \\left(x_i - \\bar{x}\\right)^2} $$\n",
    "\n",
    "3. For variables that follow a Gaussian probability density function (PDF), \n",
    "    - the **68 \\% confidence interval** ($\\mathrm{CI_{68 \\%}}$) is defined as $[\\bar{x} - \\sigma,~\\bar{x} + \\sigma]$; and $\\sigma = \\frac{\\mathrm{CI_{68 \\%}}}{2}$,\n",
    "    - the **95 \\% confidence interval** ($\\mathrm{CI_{95 \\%}}$) is defined as $[\\bar{x} - 2\\sigma,~\\bar{x} + 2\\sigma]$; and $\\sigma = \\frac{\\mathrm{CI_{95 \\%}}}{4}$.\n",
    "\n",
    "4. As we have done in Lab 01 and 02, we use the **standard deviation** as an indicator of the uncertainty in a **single measurement** and this value does **not** depend on the number of measurements taken. \n",
    "\n",
    "5. So far, we have been estimating the standard deviation by estimating the $\\mathrm{CI_{95 \\%}}$ by eye.  However, in Lab 03 and 04, you will actually make multiple measurements of the same quantity and will thus be able to calculate $\\sigma$ explicitly using the formula above.\n",
    "\n",
    "6. The **uncertainty in the mean** (often called **standard error of the mean**) is given by:\n",
    "\n",
    "    $$\\delta\\bar{x} = \\frac{\\sigma(x)}{\\sqrt{N}}$$\n",
    "\n",
    "7. We use the **uncertainty in the mean** as an indicator of the uncertainty in the **average of multiple measurements** and it does improve as we increase the number of measurements."
   ]
  },
  {
   "cell_type": "markdown",
   "id": "63aa2504-672f-4e5c-bd6c-b44997bca23c",
   "metadata": {
    "id": "63aa2504-672f-4e5c-bd6c-b44997bca23c",
    "tags": []
   },
   "source": [
    "## Developing your Python skills"
   ]
  },
  {
   "cell_type": "markdown",
   "id": "c45b9c11-a0be-4126-b601-90f47a27987c",
   "metadata": {
    "id": "c45b9c11-a0be-4126-b601-90f47a27987c"
   },
   "source": [
    "Let's import a spreadsheet of the distance data you considered in Part 1 of your pre-lab. \n",
    "\n",
    "_Note: We have labeled the distance data as ```x``` instead of ```d``` like in the pre-lab, which will keep our Python variable names more easily readable._"
   ]
  },
  {
   "cell_type": "code",
   "execution_count": null,
   "id": "29d83f88-0b2b-4c91-9286-2858b340b165",
   "metadata": {
    "id": "29d83f88-0b2b-4c91-9286-2858b340b165"
   },
   "outputs": [
    {
     "name": "stdout",
     "output_type": "stream",
     "text": [
      "Sheet name: prelab03_1.csv\n"
     ]
    },
    {
     "data": {
      "application/vnd.jupyter.widget-view+json": {
       "model_id": "c275520cb5dd4580a1fd279357bf33c4",
       "version_major": 2,
       "version_minor": 0
      },
      "text/plain": [
       "VBox(children=(HBox(children=(Button(description='Undo', style=ButtonStyle()), Button(description='Redo', styl…"
      ]
     },
     "metadata": {},
     "output_type": "display_data"
    }
   ],
   "source": [
    "# Run me to import the spreadsheet, `prelab03_1`, which is found in the same directory as `Lab03-prelab.ipynb`\n",
    "de1 = data_entry2.sheet('prelab03_1')"
   ]
  },
  {
   "cell_type": "markdown",
   "id": "cda27066-c8fd-4a69-8c41-274090093419",
   "metadata": {
    "id": "cda27066-c8fd-4a69-8c41-274090093419"
   },
   "source": [
    "**Your turn #2:** Double-check that you have the correct number of data points by looking at the row number in the data table above. There are 25 data points, but remember that Python indexing starts at 0! \n",
    "\n",
    "Below is a table of the hypothetical data that should appear in the above data table."
   ]
  },
  {
   "cell_type": "markdown",
   "id": "7ca6d482-4ec1-4ee4-b7b3-746a6ba85b8e",
   "metadata": {
    "id": "7ca6d482-4ec1-4ee4-b7b3-746a6ba85b8e",
    "tags": []
   },
   "source": [
    "### Hypothetical data"
   ]
  },
  {
   "cell_type": "markdown",
   "id": "8e82326f-8609-4a64-afe5-16af323fe8cf",
   "metadata": {
    "id": "8e82326f-8609-4a64-afe5-16af323fe8cf"
   },
   "source": [
    "| x (mm) |\n",
    "| ------ |\n",
    "| 439.3  |\n",
    "431.6\n",
    "434.6\n",
    "433.3\n",
    "439.3\n",
    "442.6\n",
    "428.6\n",
    "441.6\n",
    "431.2\n",
    "427.6\n",
    "433.2\n",
    "441.3\n",
    "436\n",
    "437.6\n",
    "434.7\n",
    "433.2\n",
    "433.1\n",
    "431.3\n",
    "436\n",
    "432.9\n",
    "436.5\n",
    "437.2\n",
    "435.7\n",
    "432.6\n",
    "434.7"
   ]
  },
  {
   "cell_type": "markdown",
   "id": "67a09e76-6eb5-443a-a5e8-9880a08e341f",
   "metadata": {
    "id": "67a09e76-6eb5-443a-a5e8-9880a08e341f",
    "tags": []
   },
   "source": [
    "## Calculating average and standard deviation using Numpy functions"
   ]
  },
  {
   "cell_type": "markdown",
   "id": "cd87dc55-4330-46b5-9268-7ca0f93842bd",
   "metadata": {},
   "source": [
    "**Your turn #3:** \n",
    "\n",
    "Press the `Generate Vectors` button at the top of your spreadsheet to load the data into your notebook. Then, use the cell below to calculate the average and standard deviation using the `np.mean()` and `np.std()` functions, respectively. Notice that `np.mean()` has a single *argument*, which is the vector of values over which to calculate the average. We discuss the second argument in `np.std()` below.\n",
    "\n",
    "_Note: If it is not working correctly, double-check above that you have correctly titled the single spreadsheet column as `x` and that there is a resulting generated vector `xVec`._"
   ]
  },
  {
   "cell_type": "code",
   "execution_count": 6,
   "id": "f6164c32-3e04-452e-8ee3-5f492278006e",
   "metadata": {
    "id": "f6164c32-3e04-452e-8ee3-5f492278006e"
   },
   "outputs": [
    {
     "name": "stdout",
     "output_type": "stream",
     "text": [
      "Average of x = 435.028 mm\n",
      "Standard deviation of x = 3.8362872676586677 mm\n"
     ]
    }
   ],
   "source": [
    "# Run me to calculate average and standard deviation. \n",
    "# - Notice how we're able to include descriptive text and units in the print commands.\n",
    "\n",
    "x_avg = np.mean(xVec)\n",
    "print(\"Average of x =\", x_avg, \"mm\")\n",
    "\n",
    "x_std = np.std(xVec, ddof=1)\n",
    "print(\"Standard deviation of x =\", x_std, \"mm\")"
   ]
  },
  {
   "cell_type": "markdown",
   "id": "41729d00-9c41-4adb-a282-f430838b8ab6",
   "metadata": {
    "id": "41729d00-9c41-4adb-a282-f430838b8ab6"
   },
   "source": [
    "You should find that the average is 435.028 mm, which is consistent with our estimate of 435 mm from the histogram in Part 1 of the prelab. The standard deviation should be 3.8362872676586677 mm, which would be 3.8 mm if we were to round it to 2 significant figures when we report it. This is also consistent with our estimate of 4 mm using the 95% confidence interval with the histogram earlier.\n",
    "\n",
    "Note that in `np.std()` we are supplying a second argument, `ddof=1`. This additional argument is needed because the `np.std()` function uses a general formula in its calculation - it can be used for a number of related calculations. In particular the formula it uses is:\n",
    "\n",
    "$$ \\textrm{np.std()} = \\sqrt{\\frac{1}{N-\\textrm{ddof}}\\sum_{i=1}^N \\left(x_i - \\bar{x}\\right)^2}. $$\n",
    "\n",
    "We want $N-1$ in the denominator as per our definition of standard deviation (which we discussed in Lab 01), so we need to use `ddof = 1`:\n",
    "\n",
    "$$ \\sigma = \\sqrt{\\frac{1}{N-1}\\sum_{i=1}^N \\left(x_i - \\bar{x}\\right)^2}. $$"
   ]
  },
  {
   "cell_type": "markdown",
   "id": "def0eaa1-7eb6-41b9-848d-4a745d2156e8",
   "metadata": {},
   "source": [
    "If you want to control the number of significant figures displayed you can modify the print statement to be an f-string as follows. Recall that we first encountered f-strings in Lab 00.\n",
    "\n",
    "Within the curly braces, the `:.2` tells the print function to round the variable to the left of the colon, in this case `x_td`, the standard deviation of `x`, to two digits. "
   ]
  },
  {
   "cell_type": "code",
   "execution_count": 6,
   "id": "6b65f649-4472-4c58-a275-5bc9014f4d61",
   "metadata": {
    "id": "6b65f649-4472-4c58-a275-5bc9014f4d61"
   },
   "outputs": [
    {
     "name": "stdout",
     "output_type": "stream",
     "text": [
      "Standard deviation to 2 sig figs = 3.8 mm\n"
     ]
    }
   ],
   "source": [
    "# Run me to print the standard deviation with 2 significant figures \"{x_std:.2}\"\n",
    "\n",
    "print(f\"Standard deviation to 2 sig figs = {x_std:.2} mm\")"
   ]
  },
  {
   "cell_type": "markdown",
   "id": "2804849a-adc3-491d-bdb2-68b4eac73815",
   "metadata": {
    "id": "2804849a-adc3-491d-bdb2-68b4eac73815"
   },
   "source": [
    "Let's step back for a moment and think about what the standard deviation represents. Twenty-five measurements were made using the same experimental procedure, so the standard deviation we calculated from these twenty-five measurements represents the *variability* we can expect when making any one measurement. \n",
    "\n",
    "In the language we are using in this course, this standard deviation is the standard uncertainty in a **single** distance measurement. In other words, if we wanted to report the value and uncertainty for one of our measurements of $x$, say $x_1=434.7 \\,\\text{mm}$, we would report it as:\n",
    "\n",
    "$$ x_1 = (434.7 \\pm 3.8) \\, \\textnormal{mm} $$\n",
    "\n",
    "The subscript '1' is being used here to emphasize that we are talking about a single measurement and not the average. **Overall, the key take-home message is that the standard deviation of many repeated measurements describes how confident we should be in any one of the individual measurements.**\n",
    "\n",
    "**Note:** By definition, you can't calculate the standard deviation from a single measurement (look at what happens if you put $N=1$ in the standard deviation equation!). This might be confusing to you since, in the first two labs, we estimated the standard deviation by just making a single measurement of the scale reading or the spring length. While it's true that you only recorded a single measurement for those quantities in your notebook, our eyes/brain considered a whole distribution of values! For example, when making a single measurement for $m_2$ your eyes were \"measuring\" many fluctuating values and picking out the rough min and max to estimate your $\\mathrm{CI_{95 \\%}}$. You were essentially using your eyes to sample the underlying Gaussian probability function to estimate the standard deviation."
   ]
  },
  {
   "cell_type": "markdown",
   "id": "0e0b0374-0b4f-47b0-a75a-556f24a2612c",
   "metadata": {},
   "source": [
    "# Familiarizing yourself with Lab 03"
   ]
  },
  {
   "cell_type": "markdown",
   "id": "bd56ba7d-c938-4111-8693-c4e5a288b59a",
   "metadata": {},
   "source": [
    "In Lab 03, you will make measurements to determine the period of a pendulum.  In this section of the pre-lab, you will use a simulation of the Lab 03 experimental equipment so that you can familiarize yourself with the lab equipment and the sort of calculations you will be expected to carry out in your lab notebook. \n",
    "\n",
    "*Notes: You may find it helpful to add some notes about your observations in the \"Part C.1 - Familiarization notes\" section of your Lab03.ipynb notebook as you do this section.*\n"
   ]
  },
  {
   "cell_type": "markdown",
   "id": "075d56f9-2fb3-4f59-9717-895c0bb5c70a",
   "metadata": {},
   "source": [
    "#### Pendulum simulation\n",
    "\n",
    "**Your turn #4a:** Please open the Pendulum simulation ([link](https://phas.ubc.ca/~sqilabs/Lab03-Pendulum.html)). First take a minute to play around with all the features of the simulation so that you understand how the pendulum and the timer work. \n",
    "\n",
    "In the cell below, brainstorm some ideas about how you'd go about measuring the period of the pendulum with the timer if you release it an initial amplitude of $15^\\circ$. Then read the hidden \"Answer and discussion\" cell.\n",
    "\n",
    "_Remember that the period, $T$, is defined as the time taken for one complete cycle of the pendulum’s motion (i.e. the time it takes for the pendulum to swing out _and_ back to its initial position)._\n"
   ]
  },
  {
   "cell_type": "markdown",
   "id": "4d77b8ad",
   "metadata": {},
   "source": [
    "*My initial measurement strategy for measuring the period $T$ at a starting amplitude of $15^\\circ$ is:*\n",
    "\n",
    "- ...\n",
    "- "
   ]
  },
  {
   "cell_type": "markdown",
   "id": "8cebe503",
   "metadata": {},
   "source": [
    "**Answer and discussion:**\n",
    "\n",
    "You might have realized that there are many ways to experimentally measure the period. The first approach most people think of is to directly measure the period from **one** cycle of the pendulum.  However, you will soon discover that it is more advantageous to calculate the period from the time interval taken for the pendulum to go through **multiple** pendulum cycles. Unsurprisingly, repeating your experiment over multiple trials will also yield a better estimate of the period."
   ]
  },
  {
   "cell_type": "markdown",
   "id": "4a2ccf2b",
   "metadata": {},
   "source": [
    "**Your turn #4b:** If during one trial of your experiment you measured that it took $\\Delta t = 18.1 \\, \\text{s}$ for the pendulum to complete $M_{\\text{cycles}}=10$ cycles, what is the period of the pendulum?"
   ]
  },
  {
   "cell_type": "markdown",
   "id": "880d2dbb",
   "metadata": {},
   "source": [
    "**Answer:**\n",
    "\n",
    "The period $T$ is simply: $$T = \\frac{\\Delta t}{M_{\\text{cycles}}} = \\frac{18.1 \\, \\text{s}}{10} = 1.81 \\, \\text{s}. $$\n"
   ]
  },
  {
   "cell_type": "markdown",
   "id": "5e648c5d",
   "metadata": {},
   "source": [
    "#### Experimental design\n",
    "\n",
    "You now have an experimental design choice to make when planning an experiment to measure the pendulum period given some starting amplitude: \n",
    "* how many pendulum cycles, $M_{\\text{cycles}}$, will you count in each of your trials? \n",
    "* how many trials, $N_{\\text{trials}}$, will you complete? \n",
    "\n",
    "**Your turn #4c:**  Follow the instructions below to take some preliminary data with the simulation:\n",
    "\n",
    "1. Start a fresh spreadsheet below for data collection. In the new spreadsheet, you will record the time interval $\\Delta t$ (in Python, `delta_t`) taken by your pendulum to complete $M_{\\text{cycles}}$ cycles (remember to record this number as an appropriately named Python variable like `M_cycles = ` in a code cell).\n",
    "   \n",
    "2. Set an external timer and give yourself **5 minutes** total to collect as much data as you can:\n",
    "   1. Set the initial release amplitude to $15^\\circ$.\n",
    "   2. Start your first trial and record $\\Delta t$ **directly in your spreadsheet in this notebook**. \n",
    "   3. Repeat your $\\Delta t$ measurement **as many times as you can** in 5 minutes, and record each measurement in a new row of the spreadsheet. The number of data points you collected for $\\Delta t$ is your number of trials, $N_{\\text{trials}}$ (which you should also record as the Python variable `n_trials = ` in a code cell).\n",
    "   \n",
    "3. After your 5 minutes of data collection are finished, press `generate_vectors` to create a vector with your data."
   ]
  },
  {
   "cell_type": "code",
   "execution_count": 7,
   "id": "b23c8274-4d44-4b79-8e9b-0073c6d0a57e",
   "metadata": {},
   "outputs": [
    {
     "name": "stdout",
     "output_type": "stream",
     "text": [
      "Creating undo file\n",
      "Sheet name: prelab03_2.csv\n"
     ]
    },
    {
     "data": {
      "application/vnd.jupyter.widget-view+json": {
       "model_id": "c7eb3fa27b7b4553b131aff6e33c01a8",
       "version_major": 2,
       "version_minor": 0
      },
      "text/plain": [
       "VBox(children=(HBox(children=(Button(description='Undo', style=ButtonStyle()), Button(description='Redo', styl…"
      ]
     },
     "metadata": {},
     "output_type": "display_data"
    }
   ],
   "source": [
    "# Use this cell to create a new spreadsheet, prelab03_2, for data collection\n",
    "de2 = data_entry2.sheet('prelab03_2')\n"
   ]
  },
  {
   "cell_type": "code",
   "execution_count": null,
   "id": "f18c08ea",
   "metadata": {},
   "outputs": [],
   "source": [
    "# Use this cell record the number M of pendulum cycles per trial and number N of trials\n",
    "\n",
    "M_cycles = \n",
    "\n",
    "N_trials ="
   ]
  },
  {
   "cell_type": "markdown",
   "id": "698258db",
   "metadata": {},
   "source": [
    "#### Calculating the period and its uncertainty\n",
    "\n",
    "Below are some useful relationships to help you calculate the period and its uncertainty based on the data you collected above. \n",
    "\n",
    "* Our best estimate for the pendulum period is simply given by the average period: $$T=\\overline T.$$\n",
    "*  As discussed in ```Your turn #4b```, the pendulum period $T_i$ of your $i$-th trial, consisting of $M_{\\text{cycles}}$ cycles is related to the measured time interval taken to achieve those cycles $\\Delta t_i$ by:\n",
    "$$T_i=\\frac{\\Delta t_i}{M_{\\text{cycles}}}.$$\n",
    "* So you can find the average pendulum period $\\overline{T}$ by average over all the $T_i$ collected over $N_{\\text{trials}}$: $$\\overline{T} = \\frac{1}{N_{\\text{trials}}} \\sum_{i=1}^{N_{\\text{trials}}} T_i.$$ ❗Remember that you can just use the ```np.mean()``` function to calculate this.\n",
    "  \n",
    "* Given that we know how the period $T$ relates to the time interval $\\Delta t$, we can also re-write the average period as: $$\\overline{T}=\\frac{\\overline{\\Delta t}}{M_{\\text{cycles}}}.$$ So to find the average period you can either: \n",
    "  * take the average of your $\\Delta t_i$ data and then divide by $M_{\\text{cycles}}$, or;\n",
    "  * divide your $\\Delta t_i$ data by $M_{\\text{cycles}}$ first to get $T_i$ data and then average over that. \n",
    "  \n",
    "  Both approaches are exactly equivalent, pick the one that works for you!\n",
    "  \n",
    "* The **uncertainty** in your best estimate for the pendulum period is given by the standard uncertainty in the mean of the period (which we discussed at the start of the prelab), and is given by: $$\\delta T = \\delta \\overline{T} = \\frac{\\sigma(T)}{\\sqrt{N_{\\text{trials}}}},$$ where the standard deviation in the period data is given by: $$ \\sigma(T) = \\sqrt{\\frac{1}{N_{\\text{trials}}-1}\\sum_{i=1}^{N_{\\text{trials}}} \\left(T_i - \\overline{T} \\right)^2} $$ ❗Remember that you can just use the ```np.std()``` function to calculate this.\n",
    "  \n",
    "* Using the above equation for $ \\delta T $ and given that we again know how the period $T$ relates to the time interval $\\Delta t$, we can also re-write the uncertainty in the average period as: $$ \\delta T = \\delta \\overline{T} = \\frac{\\sigma(\\Delta t)}{M_{\\text{cycles}} \\sqrt{N_{\\text{trials}}}}.$$ ❗This is a **very** important relationship for you to consider when deciding on how to design your experiment."
   ]
  },
  {
   "cell_type": "markdown",
   "id": "89606fc6",
   "metadata": {},
   "source": [
    "\n",
    "**Your turn #4d:**\n",
    "\n",
    "Using the data you just collected and the relationships detailed above, calculate in the cell below:\n",
    "- the pendulum period $T$, \n",
    "- the uncertainty in the period $\\delta T$, \n",
    "- and the relative uncertainty $\\delta T / T$.\n",
    "\n",
    "There are a couple ways to do this as you saw above, pick the approach that works for you.  Remember to use ```np.mean()``` and ```np.std()```."
   ]
  },
  {
   "cell_type": "code",
   "execution_count": null,
   "id": "29ff03d4-ddcd-4438-a453-52c972eaf8c8",
   "metadata": {},
   "outputs": [],
   "source": [
    "# Use this cell (and additional ones if you like) to calculate and print T, dT, dT_rel\n",
    "\n"
   ]
  },
  {
   "cell_type": "markdown",
   "id": "c6573080-6601-4bc2-9eb1-848abb84146c",
   "metadata": {},
   "source": [
    "## Preparing your Lab 03 notebook\n",
    "You should now prepare your Lab 03 notebook for data collection and analysis\n",
    "\n",
    "**Your turn #5:**\n",
    "1. Open the Lab 03 Instructions on Canvas and take a couple minutes to read through them so that you have a sense of how you will be spending your time during the lab.\n",
    "2. Focusing on Part C.1, open up your Lab 03 notebook and notice that we have again provided you with a ready-to-go spreadsheet with two columns for data entry. Instead of just `delta_t` from the prelab (for 15°), we have specified `delta_t_10` and `delta_t_20` since in the lab you will be collecting data at two different angles.\n",
    "3. In the provided spreadsheet, make-up a few rows of test data for these two angles and press ```Generate Vectors```.\n",
    "4. Copy in and modify your code as needed from this prelab so that you can calculate the average periods `T_10` and `T_20`, as well as their uncertainties `dT10` and `dT20`, and relative uncertainties `dT10_rel` and `dT20_rel`. Note that you will need to specify or extract your values for `Mcycles` and `Ntrials` to be able to do these calculations.\n",
    "5. Test your code in your Lab 02 notebook using the provided prelab data to ensure you are getting the same values in that notebook as in this one.\n",
    "\n",
    "You should now be ready for data collection and data analysis in the lab."
   ]
  },
  {
   "cell_type": "markdown",
   "id": "VLqz33sYIjwu",
   "metadata": {
    "id": "VLqz33sYIjwu",
    "tags": []
   },
   "source": [
    "# Submit\n",
    "\n",
    "Steps for submission:\n",
    "\n",
    "1. Click: Run => Run_All_Cells\n",
    "2. Read through the notebook to ensure all the cells executed correctly and without error.\n",
    "3. Correct any errors you find.\n",
    "4. File => Save_and_Export_Notebook_As->HTML\n",
    "5. Upload the HTML document to the lab submission assignment on Canvas."
   ]
  },
  {
   "cell_type": "code",
   "execution_count": null,
   "id": "067fbc39-9f60-4970-bad9-fb9b2cf7297a",
   "metadata": {},
   "outputs": [],
   "source": [
    "display_sheets()"
   ]
  }
 ],
 "metadata": {
  "colab": {
   "name": "lab03_prelab_part2_student_version.ipynb",
   "provenance": []
  },
  "kernelspec": {
   "display_name": "base",
   "language": "python",
   "name": "python3"
  },
  "language_info": {
   "codemirror_mode": {
    "name": "ipython",
    "version": 3
   },
   "file_extension": ".py",
   "mimetype": "text/x-python",
   "name": "python",
   "nbconvert_exporter": "python",
   "pygments_lexer": "ipython3",
   "version": "3.13.5"
  },
  "widgets": {
   "application/vnd.jupyter.widget-state+json": {
    "state": {},
    "version_major": 2,
    "version_minor": 0
   }
  }
 },
 "nbformat": 4,
 "nbformat_minor": 5
}
