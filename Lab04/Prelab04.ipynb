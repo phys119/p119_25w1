{
 "cells": [
  {
   "cell_type": "markdown",
   "id": "b91df6a1",
   "metadata": {},
   "source": [
    "# Lab 04 Prelab - Practice Making Calculations With Python and Numpy"
   ]
  },
  {
   "cell_type": "markdown",
   "id": "54e1a29c",
   "metadata": {},
   "source": [
    "The goal of this prelab activity is to give you additional practice using Python and Numpy. What we will do is reproduce the calculations done by ```np.mean()``` and ```np.std()``` step by step as per the equations we introduced previously.\n",
    "\n",
    "**To be clear, for your actual lab, you should still calculate the mean and standard deviation of your data using the built-in Numpy functions ```np.mean()``` and ```np.std()```.**  However, as you will see here, you can also do so without these built-in functions. While it does require several steps of calculations, we want to give you the opportunity to learn how to do it in this \"long way\" since:\n",
    "\n",
    "1. Practicing and maintaining your coding skills is useful beyond just this lab course \n",
    "2. Many of the calculations we perform later in this course will not correspond to built-in functions, so it is useful to learn how to do more complicated calculations.\n",
    "3. Breaking down complicated calculations into a several lines of code---as we do in these \"long way\" calculations---is the strategy that we will be encouraging you to use for most of your coding work going forward in this course. It is often easier to find problems or errors in your calculations if you can look at intermediate steps and values.\n",
    "4. This notebook will also allow you to learn a few more very useful Python and Numpy functions"
   ]
  },
  {
   "cell_type": "code",
   "execution_count": null,
   "id": "9b725cb2",
   "metadata": {},
   "outputs": [],
   "source": [
    "%reset -f \n",
    "# Clear all variables, start with a clean environment.\n",
    "import numpy as np\n",
    "import data_entry2"
   ]
  },
  {
   "cell_type": "markdown",
   "id": "30cc5858",
   "metadata": {},
   "source": [
    "### Import data\n",
    "\n",
    "Let's import a spreadsheet of the distance data, $x$, that you considered in your last pre-lab (Prelab 03).  \n",
    "\n",
    "* Recall that we can always copy a spreadsheet that already exists somewhere into a new file.  Here, the spreadsheet we want to copy is in your Lab03 folder and we want to copy it into a new spreadsheet in your current folder (Lab04).  We will call our new spreadsheet file: ```prelab03_copy```.  \n",
    "  \n",
    "* If you forget how to use ```data_entry2``` to create a new spreadsheet or to copy an existing one, you can always go to the Canvas page **Python Tips and Troubleshooting Jupyter Issues** for a quick guide on how to do it.\n",
    "\n",
    "Remember to click on `Generate Vectors` after you've run the cell to import the $x$ data into the `xVec` variable."
   ]
  },
  {
   "cell_type": "code",
   "execution_count": null,
   "id": "55327050",
   "metadata": {},
   "outputs": [],
   "source": [
    "# Run me to import the spreadsheet, `prelab03_1`, which is found in the Lab03 directory\n",
    "de1 = data_entry2.sheet_copy('../Lab03/prelab03_1', 'prelab03_copy')"
   ]
  },
  {
   "cell_type": "markdown",
   "id": "7aed2789",
   "metadata": {},
   "source": [
    "### Calculating an average without ```np.mean()```"
   ]
  },
  {
   "cell_type": "markdown",
   "id": "c73ea4b2",
   "metadata": {},
   "source": [
    "Let's revisit our equation for calculating an average,\n",
    "\n",
    "$$\\bar{x} = \\frac{1}{N} \\sum_{i=1}^N x_i.$$\n",
    "\n",
    "We will break the operation of calculating the average into steps. We will first sum up all the $x_i$ values, then count how many values there are (i.e. $N$), and then finally calculate the quotient.\n",
    "\n",
    "**Your turn #1a:** Similar to `np.mean()` and `np.std()`, there is a NumPy function for calculating a sum,`np.sum()`. Use this function in the code cell below to define a variable `xSum` which is the result of the sum over the elements in `xVec`."
   ]
  },
  {
   "cell_type": "code",
   "execution_count": null,
   "id": "a2cf8ea3",
   "metadata": {},
   "outputs": [],
   "source": [
    "# Use this cell to define your variable xSum\n",
    "\n",
    "xSum = "
   ]
  },
  {
   "cell_type": "markdown",
   "id": "6bf5c6e1",
   "metadata": {},
   "source": [
    "Next, the built-in Python function `len()` calculates how \"long\" a vector is, i.e. it counts up the number of elements within the supplied variable. For instance, if you run the code cell below you can see `len()` returns `3` when we supply it with the three-element vector `foo`:"
   ]
  },
  {
   "cell_type": "code",
   "execution_count": null,
   "id": "9fa3dce9",
   "metadata": {},
   "outputs": [],
   "source": [
    "# Run me to see how len() works\n",
    "\n",
    "foo = np.array([1, 2, 3])\n",
    "len(foo)"
   ]
  },
  {
   "cell_type": "markdown",
   "id": "4547718d",
   "metadata": {},
   "source": [
    "**Your turn #1b:** Use `len()` in the cell below to define variable `N` which is the result of counting the number of elements in `xVec`."
   ]
  },
  {
   "cell_type": "code",
   "execution_count": null,
   "id": "0d5c1720",
   "metadata": {},
   "outputs": [],
   "source": [
    "# Use this cell to define a variable N\n",
    "\n",
    "N = "
   ]
  },
  {
   "cell_type": "markdown",
   "id": "a1c1e961",
   "metadata": {},
   "source": [
    "**Your turn #1c:** Finally, define the variable `xAvg`, which is calculated by dividing `xSum` by `N` to arrive at the average of `xVec` the \"long way\". Print out the value of `xAvg`."
   ]
  },
  {
   "cell_type": "code",
   "execution_count": null,
   "id": "faedf000",
   "metadata": {},
   "outputs": [],
   "source": [
    "# Use this cell to define xAvg. Add a second line of code to print out the value\n",
    "\n",
    "xAvg = \n",
    "\n",
    "print(f\"Average (long way) = {xAvg:.4f} mm\")\n",
    "print(f\"Average (short way) = {np.mean(xVec):.4f} mm\")"
   ]
  },
  {
   "cell_type": "markdown",
   "id": "ec0f8c85",
   "metadata": {},
   "source": [
    "You should find that you calculated an average distance of 435.028 mm just like when using the `np.mean()` function."
   ]
  },
  {
   "cell_type": "markdown",
   "id": "e922c4bd",
   "metadata": {},
   "source": [
    "### Calculating standard deviation the \"long way\""
   ]
  },
  {
   "cell_type": "markdown",
   "id": "bb115ea3",
   "metadata": {},
   "source": [
    "Recall the equation for the standard deviation:\n",
    "\n",
    "$$ \\sigma = \\sqrt{\\frac{1}{N-1}\\sum_{i=1}^N \\left(x_i - \\bar{x}\\right)^2}.$$\n",
    "\n",
    "This equation is a little more involved, but, as we did with the average, we will divide our process into smaller steps.\n",
    "\n",
    "Our steps, in order, are as follows\n",
    "\n",
    "1. Find the average (done!)\n",
    "2. For each value $x_i$, find the difference between it and the average.\n",
    "3. Find the square of that difference for each value and then sum up all of those differences of squares.\n",
    "4. Finally we need divide that sum by $N-1$ and take the square root."
   ]
  },
  {
   "cell_type": "markdown",
   "id": "eaa8786a",
   "metadata": {},
   "source": [
    "Let's start with calculating $x_i - \\bar{x}$ for each data point. What we want Python to do is take each data point in `xVec` and subtract `xAvg`. Thankfully, this can be done in a single, intuitive line of code. If we were to do this in a calculator, we'd have to make 25 calculations - one for each data point in `xVec`. However, Python is smart enough that when we supply it with a 25-element Numpy vector like `xVec` and ask it to subtract off a one-element vector or scalar like `xAvg`, then it knows that you want to subtract `xAvg` from each data point in `xVec`.\n",
    "\n",
    "Run the cell below to test this behaviour:"
   ]
  },
  {
   "cell_type": "code",
   "execution_count": null,
   "id": "d6a313f5",
   "metadata": {},
   "outputs": [],
   "source": [
    "# Run me to see an example of subtracting a single number from a vector\n",
    "\n",
    "bar = np.array([1, 2, 3, 4, 5])\n",
    "print('Dummy data = ', bar)\n",
    "\n",
    "barMinusOne = bar - 1\n",
    "print('Dummy data subtracted by 1 = ', barMinusOne)"
   ]
  },
  {
   "cell_type": "markdown",
   "id": "36be7d80",
   "metadata": {},
   "source": [
    "**Your turn #2a:** Using the example above, define a new Python variable `diffFromAvg` below which subtracts `xAvg` from each element of `xVec`."
   ]
  },
  {
   "cell_type": "code",
   "execution_count": null,
   "id": "4cf633a8",
   "metadata": {},
   "outputs": [],
   "source": [
    "# Use this cell to define diffFromAvg\n",
    "\n",
    "diffFromAvg = "
   ]
  },
  {
   "cell_type": "markdown",
   "id": "9e4f420b",
   "metadata": {},
   "source": [
    "Going back to the standard deviation formula, we see that we now need to _square_ each of these differences from the average. In Python, the operator that raises a number to a power is `**`. Again, Python is smart enough to know when we ask to square a vector, Python will square each element within the vector. \n",
    "\n",
    "Run the cell below to test this behaviour:"
   ]
  },
  {
   "cell_type": "code",
   "execution_count": null,
   "id": "80d61a0a",
   "metadata": {},
   "outputs": [],
   "source": [
    "# Run me to see an example of squaring numbers\n",
    "\n",
    "some_numbers = np.array([1, 2, 3, 4])\n",
    "some_numbers_squared = some_numbers**2\n",
    "print('The numbers squared are', some_numbers_squared)"
   ]
  },
  {
   "cell_type": "markdown",
   "id": "f1b25116",
   "metadata": {},
   "source": [
    "**Your turn #2b:** Complete the cell below to define the new variable `diffFromAvgSquared`, which squares your previous result."
   ]
  },
  {
   "cell_type": "code",
   "execution_count": null,
   "id": "e4ab0643",
   "metadata": {},
   "outputs": [],
   "source": [
    "# Run this cell to define diffFromAvgSquared, the square of each element from the vector diffFromAvg\n",
    "\n",
    "diffFromAvgSquared = "
   ]
  },
  {
   "cell_type": "markdown",
   "id": "d4bc0847",
   "metadata": {},
   "source": [
    "**Your turn #2c:** Our next step is to sum up these squared differences. You already learned how to perform sums in Python using `np.sum()` earlier in calculating the average the \"long way\". Use `np.sum()` to define a new variable `sumSquaredDiffs` which is the result of summing all the elements from the vector `diffFromAvgSquared`."
   ]
  },
  {
   "cell_type": "code",
   "execution_count": null,
   "id": "52532d62",
   "metadata": {},
   "outputs": [],
   "source": [
    "# Use this cell to define sumSquaredDiffs\n",
    "\n",
    "sumSquaredDiffs = "
   ]
  },
  {
   "cell_type": "markdown",
   "id": "f10364bd",
   "metadata": {},
   "source": [
    "**Your turn #2d:** We are almost done. We need to divide the sum of the squared differences, `sumSquaredDiffs`, by $N-1$.  And then, we take the square root of the whole thing.  Run the cell below to do this."
   ]
  },
  {
   "cell_type": "code",
   "execution_count": null,
   "id": "78fb2f89",
   "metadata": {},
   "outputs": [],
   "source": [
    "# Run me to finish the \"long way\" calculation of the standard deviation and compare it to the \"short way\"\n",
    "\n",
    "xStdLong = \n",
    "\n",
    "print(f\"Standard deviation (long way) = {xStdLong:.4f} mm\")\n",
    "print(f\"Standard deviation (short way) = {np.std(xVec, ddof=1):.4f} mm\")"
   ]
  },
  {
   "cell_type": "markdown",
   "id": "2ca41c19",
   "metadata": {},
   "source": [
    "If all went well, you should see identical results for calculating the standard deviation of `xVec` the long or short way."
   ]
  },
  {
   "cell_type": "markdown",
   "id": "547df7e3",
   "metadata": {},
   "source": [
    "## Preparing your Lab 04 notebook\n",
    "As usual, you should now prepare your Lab 04 notebook for data collection and analysis.\n",
    "\n",
    "1. Open the Lab 04 Instructions on Canvas and take a couple minutes to read through them so that you have a sense of how you will be spending your time during the lab.\n",
    "2. Focusing on Part C and D, copy in and modify your code as needed from the last lab so that you can calculate the average periods `T_10` and `T_20`, as well as their uncertainties `dT10` and `dT20`, and relative uncertainties `dT10_rel` and `dT20_rel`. \n",
    "3. You will also need the code to compute the $t'$-score to compare your two averages. Think about how to correctly interpret what the $t'$-score is telling you.\n",
    "4. You may wish to test your code with some data from Lab 03 to make sure everything works as expected. To do so, you can make a copy of the spreadsheet you made in Lab 03, as we did earlier in this pre-lab.  **However, make sure to create a new spreadsheet for the start of Lab 04 to collect new data.**"
   ]
  },
  {
   "cell_type": "markdown",
   "id": "b8927817",
   "metadata": {},
   "source": [
    "# Submit\n",
    "\n",
    "Steps for submission:\n",
    "\n",
    "1. Click: Run => Run_All_Cells\n",
    "2. Read through the notebook to ensure all the cells executed correctly and without error.\n",
    "3. Correct any errors you find.\n",
    "4. File => Save_and_Export_Notebook_As->HTML\n",
    "5. Upload the HTML document to the lab submission assignment on Canvas."
   ]
  },
  {
   "cell_type": "code",
   "execution_count": null,
   "id": "5e6c3be6",
   "metadata": {},
   "outputs": [],
   "source": [
    "display_sheets()"
   ]
  }
 ],
 "metadata": {
  "kernelspec": {
   "display_name": "base",
   "language": "python",
   "name": "python3"
  },
  "language_info": {
   "codemirror_mode": {
    "name": "ipython",
    "version": 3
   },
   "file_extension": ".py",
   "mimetype": "text/x-python",
   "name": "python",
   "nbconvert_exporter": "python",
   "pygments_lexer": "ipython3",
   "version": "3.13.5"
  }
 },
 "nbformat": 4,
 "nbformat_minor": 5
}
