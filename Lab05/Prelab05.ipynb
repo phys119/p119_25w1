{
 "cells": [
  {
   "cell_type": "markdown",
   "id": "88c0f1e3-21cb-420a-bfb2-079c3fbc1796",
   "metadata": {
    "id": "88c0f1e3-21cb-420a-bfb2-079c3fbc1796"
   },
   "source": [
    "# Prelab 05: Ohm’s Law, Plots, and Models"
   ]
  },
  {
   "cell_type": "markdown",
   "id": "7c0d45fd-730f-49fe-9336-872e5a629a17",
   "metadata": {
    "id": "7c0d45fd-730f-49fe-9336-872e5a629a17"
   },
   "source": [
    "## Part 1: Ohm's Law"
   ]
  },
  {
   "cell_type": "markdown",
   "id": "e68b9539",
   "metadata": {},
   "source": [
    "### 1.1 Definition\n",
    "\n",
    "For many conducting material, the **electric current** ($I$, or simply current) that flows through the material is proportional to the **voltage** ($V$, also known as the electrical potential difference) across it. The constant of proportionality is related to the **electrical resistance** ($R$, or simply resistance) of the material. This relationships holds for many material and across a wide range of voltages and currents, and so, it is given a name: \"Ohm's law\".  Mathematically, Ohm's law is written as:\n",
    "\n",
    "$$ V = IR.$$\n",
    "\n",
    "The unit of:\n",
    "- electric current ($I$) is the **ampere**, with symbole A,\n",
    "- voltage ($V$) is the **volt**, with symbol V,\n",
    "- electrical resistance ($R$) is the **ohm**, wth symbol $\\Omega$.\n",
    "\n",
    "As with Hooke's law, **Ohm's law is not a physical law**. Rather, it is an empirical model that provides a satisfactory description of numerous devices and materials under specific circumstances. The goal of Lab 05 and 06 will be, in part, to determine when this model holds and when it fails."
   ]
  },
  {
   "cell_type": "markdown",
   "id": "5cde2b53",
   "metadata": {},
   "source": [
    "### 1.2 An example experiment with a simple electric circuit\n",
    "\n",
    "In this section, we will go over an example experiment where the goal is to determine if Ohm's law holds for a device called a \"resistor\" in a simple electric circuit. This is closely related to what you will do in this lab. Note that the term \"resistor\" is used for a device that is purposefully inserted in an electric circuit to add some electrical resistance.\n",
    "\n",
    "Consider the circuit below, where we have a voltage source (a battery) with an adjustable output voltage $V_\\mathrm{s}$. The battery is connected to two resistors of **unknown** but fixed resistance $R_1$ and $R_2$. The resistors are connected in **series** with the battery so that the electric current through each of the resistors is the same, i.e. $I$.\n",
    "\n",
    "<center><img src=\"LoopCircuit.png\" width=\"200\"/></center>\n",
    "\n",
    "For your experiment, you have access to a device called a **multimeter** that can measure the voltage across any two points in the circuit (i.e. *voltmeter* mode), and the current flowing between those points (i.e. *ammeter* mode). Using this instrument, you notice that when you vary the battery voltage $V_\\mathrm{s}$, the voltage $V_{R_1}$ across $R_1$ and the current $I$ also change.  "
   ]
  },
  {
   "cell_type": "markdown",
   "id": "f0cbfc75-b259-4941-9e4b-6d65e572098a",
   "metadata": {},
   "source": [
    "**Aside:** If you've never built a circuit and have little intuition about how it works, you are encouraged to build the above circuit in the excellent [PhET Circuit Simulation](https://phet.colorado.edu/sims/html/circuit-construction-kit-dc/latest/circuit-construction-kit-dc_all.html). There you can change the battery voltage and observe what happens to the current and the voltage across the resistors using the built-in measurement tools (i.e. the voltmeter and ammeter)."
   ]
  },
  {
   "cell_type": "markdown",
   "id": "4b11d159",
   "metadata": {},
   "source": [
    "#### **Your turn #1**\n",
    "\n",
    "Given measurements of the voltage $V_{R_1}$ and the current $I$, how can you determine that Ohm's law adequately describes the resistor $R_1$? **Take a minute to think about this before reading the answer below.**"
   ]
  },
  {
   "cell_type": "markdown",
   "id": "23822936",
   "metadata": {
    "jp-MarkdownHeadingCollapsed": true
   },
   "source": [
    "#### Answer (read me before moving on to \"Your turn #2)"
   ]
  },
  {
   "cell_type": "markdown",
   "id": "e9792edf",
   "metadata": {},
   "source": [
    "You might think that you can simply calculate the ratio of $V_{R_1}$ and $I$ for a certain battery voltage to calculate the resistance of $R_1$. But that's already making the assumption that Ohm's law works, and in any case, recall that we don't even know the true resistance of $R_1$! Overall, Ohm's law prescribes a specific mathematical relationship between voltage and current: a single point will not allow us to evaluate whether or not Ohm's law holds.\n",
    "\n",
    "Say that we were to instead measure $N$ data points of voltage across $R_1$ and the current through it: $(V_{R_1,1} \\pm \\delta V_{R_1,1}; I_1 \\pm \\delta I_1), (V_{R_1,2} \\pm \\delta V_{R_1,2}; I_2 \\pm \\delta I_2), \\ldots, (V_{R_1,N} \\pm \\delta V_{R_1,N}; I_N \\pm \\delta I_N)$. A useful way to visualize and extract information about the relationship between the two variables $V_{R_1}$ and $I$ is to plot them against each other. We have done so below for a mock dataset of voltages and currents. \n",
    "\n",
    "<center><img src=\"VoltageVsCurrent.png\" width=\"500\"/></center>\n",
    "\n",
    "This plot is much better than a single point for us to fulfill our goal of determining if Ohm's law holds for the resistor. As we will explore below, we can see if the trend we observe in the plot is the same one we'd expect from our model.  In other words, we can attempt to \"fit\" the Ohm's law model to the data we have collected. By quantifying how closely our model \"fits\" the data, we can evaluate the validity of our model.  If the model is a good fit, then we can also use it to extract model parameters of interest (i.e. for this example with Ohm's law, that would be $R_1$).  Let's investigate how this all works with a few more questions."
   ]
  },
  {
   "cell_type": "markdown",
   "id": "f3ee8033",
   "metadata": {},
   "source": [
    "#### **Your turn #2**\n",
    "\n",
    "Answer the following questions on your own first before looking at the answers below."
   ]
  },
  {
   "cell_type": "markdown",
   "id": "ed2e527b-f2af-40cd-a884-95938f6bff32",
   "metadata": {
    "id": "ed2e527b-f2af-40cd-a884-95938f6bff32"
   },
   "source": [
    "1. What is the relationship between voltage and current as shown in the experimental data above? For example, does it appear to be a linear relationship? Exponential? A power law? Some other relationship?"
   ]
  },
  {
   "cell_type": "markdown",
   "id": "b73b5355-cb7b-4229-8e8a-c6629a2c52c0",
   "metadata": {},
   "source": []
  },
  {
   "cell_type": "markdown",
   "id": "4ad16914-180e-4b3e-b9bb-8003266a05d7",
   "metadata": {},
   "source": [
    "2. State the theoretical relationship between $V_{R_1}$, $I$ and $R_1$ given by Ohm's law. Does the type of relationship in Ohm's law match what you answered in the previous question?"
   ]
  },
  {
   "cell_type": "markdown",
   "id": "93d7de4a-06b9-4038-b8cd-5bc61206b98c",
   "metadata": {},
   "source": []
  },
  {
   "cell_type": "markdown",
   "id": "20e944b3-81ea-4f8f-9636-2fef3fba5df8",
   "metadata": {},
   "source": [
    "3. Using your answer to the previous question, how should the slope $m$ of the data on the graph relate to the resistance $R_1$?"
   ]
  },
  {
   "cell_type": "markdown",
   "id": "d7587abd-3fb3-48df-a646-fd45795f070c",
   "metadata": {},
   "source": []
  },
  {
   "cell_type": "markdown",
   "id": "fd75dd82-56ab-42b4-9660-1069214e8e44",
   "metadata": {},
   "source": [
    "4. Estimate the value of the resistance $R_1$.\n",
    "\n",
    "    *Hint: to calculate the slope of a line from a graph $y$ versus $x$, one can choose any two points $(x_1, y_1)$ and $(x_2, y_2)$ on the line and use the formula $\\frac{y_2 - y_1}{x_2 - x_1}$*"
   ]
  },
  {
   "cell_type": "markdown",
   "id": "02ba46b2-ec00-422a-95e7-8fc517e501f7",
   "metadata": {},
   "source": []
  },
  {
   "cell_type": "markdown",
   "id": "520e0466-245e-4220-9fa1-446804c2b65a",
   "metadata": {
    "jp-MarkdownHeadingCollapsed": true
   },
   "source": [
    "#### Answers"
   ]
  },
  {
   "cell_type": "markdown",
   "id": "ae60aa38-6df6-4d71-b96f-6e92e690518f",
   "metadata": {
    "id": "ae60aa38-6df6-4d71-b96f-6e92e690518f"
   },
   "source": [
    "1. The relationship between voltage and current appears to be linear.\n",
    "\n",
    "2. Ohm's law states that $V_{R_1} = IR_1$, i.e. the two are linearly related via the resistance. We also see this linear relationship in the plot.\n",
    "\n",
    "3. The data in the graph seems to follow a linear relationship of the form $y=mx+b$, where $y=V_{R_1}$ and $x=I$. According to Ohm's law, the slope is predicted to be $m = R_1$ (and the y-intercept is predicted to be $b=0$).\n",
    "\n",
    "4. For example, we can calculate the slope from the graph by choosing the following two points $(0~\\mathrm{A}, 0~\\mathrm{V})$ and $(0.08~\\mathrm{A}, 0.8~\\mathrm{V})$, which gives $m \\approx \\frac{0.8 - 0}{0.08 - 0} = 10~\\mathrm{V/A}$. Consequently, the resistance is $R_1 = m \\approx 10~\\Omega$."
   ]
  },
  {
   "cell_type": "markdown",
   "id": "4cd844cb-940e-4221-82dd-ab63dd9098cf",
   "metadata": {
    "id": "4cd844cb-940e-4221-82dd-ab63dd9098cf"
   },
   "source": [
    "## Part 2: Plotting with Python"
   ]
  },
  {
   "cell_type": "markdown",
   "id": "54e187fc-d7de-435e-a599-8d56fa45054c",
   "metadata": {
    "id": "54e187fc-d7de-435e-a599-8d56fa45054c"
   },
   "source": [
    "An important first step to finding relationships between variables is **data visualization**; such as through producing plots of data. Fortunately, Python is an excellent tool for this task. This part of the prelab will guide you through how to produce a **scatter plot of experimental data**, and to then extract useful information. **Take your time here, this is something we will be doing many times in our future labs in this course.**\n",
    "\n",
    "Much like with the case of recording data in tables, plotting is not a built-in functionality of Python. Instead, we import a library which carries this functionality, `matplotlib`. You can import it (along with the `data_entry2` and `numpy` libraries we have been using) by running the cell below."
   ]
  },
  {
   "cell_type": "code",
   "execution_count": null,
   "id": "42b044bd-b81d-41fa-bbb7-0844e410cc87",
   "metadata": {
    "id": "42b044bd-b81d-41fa-bbb7-0844e410cc87"
   },
   "outputs": [],
   "source": [
    "%reset -f\n",
    "# Run me to import the relevant libraries\n",
    "import data_entry2\n",
    "import numpy as np\n",
    "import matplotlib.pyplot as plt"
   ]
  },
  {
   "cell_type": "markdown",
   "id": "eb4a120b-3707-4391-befe-4c756c6d971c",
   "metadata": {
    "id": "eb4a120b-3707-4391-befe-4c756c6d971c"
   },
   "source": [
    "We will go through an example together of creating a scatter plot, and then at the end of this prelab we will ask you to take what you've learned to recreate the scatter plot of voltage vs current we showed in the beginning of the notebook. \n",
    "\n",
    "For this first example, we consider a situation similar to our Lab 01 experiment in this course. Suppose we have a spring, and we have measured the force $F$ (refered to as `F` in spreadsheet data below) that the spring exerts for a variety of compressions $\\Delta x$ (`Dx` in spreadsheet data). We have also recorded the uncertainty in the force measurements $\\delta F$ (`dF`) and the uncertainty in the compression measurements $\\delta(\\Delta x)$ (`dDx` in spreadsheet data).\n",
    "\n",
    "The experimental data are given in the spreadsheet below:"
   ]
  },
  {
   "cell_type": "code",
   "execution_count": null,
   "id": "b9605911-aeae-4c75-bc35-f22211ef3733",
   "metadata": {
    "colab": {
     "referenced_widgets": [
      "bf03e00bffc94ba6a62158c354a404d2"
     ]
    },
    "id": "b9605911-aeae-4c75-bc35-f22211ef3733",
    "outputId": "cbbddd51-108a-4dfa-f82c-f3dc3543a812"
   },
   "outputs": [],
   "source": [
    "# Import spring data.\n",
    "de_hl = data_entry2.sheet(\"prelab05_hookes_law\")"
   ]
  },
  {
   "cell_type": "markdown",
   "id": "6037a75c-7a65-4881-97ae-348cf0adce7f",
   "metadata": {
    "id": "6037a75c-7a65-4881-97ae-348cf0adce7f"
   },
   "source": [
    "**Your turn #3:** We will want to work with vectors of this data, so click the `Generate Vectors` button in the spreadsheet. \n",
    "\n",
    "Next, run the cell below to create a simple scatter plot of $F$ versus $\\Delta x$, including the uncertainties $\\delta F$ as errorbars. The code is explained in the next cell."
   ]
  },
  {
   "cell_type": "code",
   "execution_count": null,
   "id": "b3124ee2-1163-46e0-ae0d-26540771bf0d",
   "metadata": {
    "id": "b3124ee2-1163-46e0-ae0d-26540771bf0d",
    "outputId": "5edcc8a5-73a6-4533-d844-a34da0448569"
   },
   "outputs": [],
   "source": [
    "# Define variables from the experimental data.\n",
    "x_data = DxVec\n",
    "y_data = FVec\n",
    "dy_data = dFVec\n",
    "\n",
    "# Create a new figure.\n",
    "plt.figure()\n",
    "\n",
    "# Plot y_data versus x_data as markers with attached errorbars dy_data.\n",
    "plt.errorbar(x=x_data, y=y_data, yerr=dy_data, fmt='bo')\n",
    "\n",
    "# Display all open figures.\n",
    "plt.show()"
   ]
  },
  {
   "cell_type": "markdown",
   "id": "161a66c3-1079-4c08-b125-16b6793cd255",
   "metadata": {
    "id": "161a66c3-1079-4c08-b125-16b6793cd255"
   },
   "source": [
    "Let's have a look at the different Python commands used to create this plot:\n",
    "- `plt`: specifies that we want to use the `matplotlib` plotting library,\n",
    "- `plt.figure()`: creates a new figure in which we can insert a certain type of plot,\n",
    "- `plt.errorbar()`: function that specifies the type of plot: here we want $y$ versus $x$ as markers with attached errorbars,\n",
    "- `plt.show()`: displays all open figures.\n",
    "\n",
    "\n",
    "We used the following built-in **parameters** of the function `plt.errorbar`:\n",
    "- `x`: the data for the $x$ axis,\n",
    "- `y`: the data for the $y$ axis,\n",
    "- `yerr`:  the errorbar sizes for the $y$-axis data,\n",
    "- `fmt`: the format for the data points.\n",
    "\n",
    "*Note that `xerr` (the errorbar sizes for the $x$-axis data) also exists as a built-in parameter; however we will often find that the uncertainties in the $y$ values are more significant than those in the $x$ values, so the uncertainty in $x$ can often be neglected.*\n",
    "\n",
    "In our case, we passed the following **arguments** to the `plt.errorbar()` function when we called it:\n",
    "- `x_data` for the parameter `x`, i.e. the vector of $\\Delta x$ values;\n",
    "- `y_data` for the parameter `y`, i.e. the vector of $F$ values;\n",
    "- `dy_data` for the parameter `yerr`, i.e. the vector of $\\delta F$ values for the errorbars;\n",
    "- `'bo'` for the parameter `fmt`, to specify that we want blue (`b`) circles (`o`) for the data points."
   ]
  },
  {
   "cell_type": "markdown",
   "id": "3e5849e7-d7ec-44ba-a23b-c45d5d9df1df",
   "metadata": {},
   "source": [
    "**Your turn #4:** Try replacing the blue dot symbol with a red x symbol using `fmt='rx'` above. "
   ]
  },
  {
   "cell_type": "markdown",
   "id": "679fe6c1-960d-4028-8bea-4ebf6fa63052",
   "metadata": {},
   "source": [
    "Next, let's add further important information to our plot, such as axis labels and a title. We will also show how to adjust the size of the markers in the plot and then add a legend (although this plot doesn't really need one)."
   ]
  },
  {
   "cell_type": "code",
   "execution_count": null,
   "id": "49b800a9-f253-4699-a652-c79d163ce468",
   "metadata": {
    "id": "49b800a9-f253-4699-a652-c79d163ce468",
    "outputId": "c6a829b6-adb0-4d7a-db9b-f47a26682f3b"
   },
   "outputs": [],
   "source": [
    "# Add a title, axis labels and a legend to the graph.\n",
    "plt.figure()\n",
    "plt.errorbar(x=x_data, y=y_data, yerr=dy_data, fmt='bo', markersize=3, label=\"Round 1 data\")\n",
    "plt.title(\"Hooke's law investigation using spring compression\")\n",
    "plt.xlabel(\"Displacement of spring from equilibrium (m)\")\n",
    "plt.ylabel(\"Force (N)\")\n",
    "plt.legend()\n",
    "plt.show()"
   ]
  },
  {
   "cell_type": "markdown",
   "id": "80d2c14b-e1f4-4e63-acf6-e9f94ff13b4c",
   "metadata": {
    "id": "80d2c14b-e1f4-4e63-acf6-e9f94ff13b4c"
   },
   "source": [
    "We now have a complete plot! Notice that the title is descriptive of the purpose of the plot, and the axis labels describe the quantities (with the units). Other things to note:\n",
    "\n",
    "* The argument passed to the `markersize` parameter in `plt.errorbar()` specifies how large the markers in the plot are. In the first version of the plot above, the error bars of the first data point were hidden behind the marker so here we shrink the size of the markers to make the small error bars more visible.\n",
    "\n",
    "* Finally, by passing an argument to the `label` parameter in `plt.errorbar()`, we can specify the label for the plot when we include a legend with `plt.legend()`. We don't really need a legend here as we are only plotting a single dataset, but later on when we have multiple things on the same plot, a legend will become very useful.\n",
    "\n",
    "* Note that the plot will automatically give axis tick marks (the specific numbers displayed along each axis), which are typically reasonable. It will also set appropriate limits for the plot so all data points are displayed. If you find the defaults aren't suitable, there are ways to control these (e.g. `plt.xlim([min, max])` and `plt.xticks([.1, .2, .3])`), though you probably won't need these in this course.\n",
    "\n",
    "**Your turn #5:** Test your understanding by playing around with the code in the cell above. Change the text inside `plt.title(\"...\"), plt.xlabel(\"...\"),` and `plt.ylabel(\"...\")` functions and plot your data with different size markers."
   ]
  },
  {
   "cell_type": "markdown",
   "id": "8dde9172-721c-4e55-b621-1a3415b52ec0",
   "metadata": {},
   "source": [
    "Before moving on, let's redo the previous plot, but make the code more general by using variables to define all of the text we want to add to the graph. This will make it much easier to update this code in the future."
   ]
  },
  {
   "cell_type": "code",
   "execution_count": null,
   "id": "e4d848be-cf15-491b-bdbd-cbac8c0b24f2",
   "metadata": {},
   "outputs": [],
   "source": [
    "# Define variables for the labels and title of the graph.\n",
    "data_label = \"Round 1 data\"\n",
    "graph_title = \"Hooke's law investigation using spring compression\"\n",
    "x_label = \"Displacement of spring from equilibrium (m)\"\n",
    "y_label = \"Force (N)\"\n",
    "\n",
    "# Make the graph.\n",
    "plt.figure()\n",
    "plt.errorbar(x=x_data, y=y_data, yerr=dy_data, fmt='bo', markersize=3, label=data_label)\n",
    "plt.title(graph_title)\n",
    "plt.xlabel(x_label)\n",
    "plt.ylabel(y_label)\n",
    "plt.legend()\n",
    "plt.show()"
   ]
  },
  {
   "cell_type": "markdown",
   "id": "0b861a5f-04a4-47f0-9d74-3e94b9c4a43c",
   "metadata": {
    "id": "0b861a5f-04a4-47f0-9d74-3e94b9c4a43c"
   },
   "source": [
    "**Your turn #6:** Recall that Hooke's law tells us that $F= k \\Delta x$. Is the slope of this graph equal to $k$, $1/k$ or some other quantity?"
   ]
  },
  {
   "cell_type": "markdown",
   "id": "3f177284-419e-4225-a281-3f8b9c0de6f6",
   "metadata": {
    "id": "3f177284-419e-4225-a281-3f8b9c0de6f6"
   },
   "source": []
  },
  {
   "cell_type": "markdown",
   "id": "f2f5d3a8-9004-4936-ac27-1b3683f3984a",
   "metadata": {
    "jp-MarkdownHeadingCollapsed": true,
    "tags": []
   },
   "source": [
    "#### Answer:"
   ]
  },
  {
   "cell_type": "markdown",
   "id": "2507103f-f8d0-4517-b2f0-fbc0ab387b0b",
   "metadata": {},
   "source": [
    "The slope of the above plot can be identified as the spring constant $k$ of the spring according to our model: Hooke's law."
   ]
  },
  {
   "cell_type": "markdown",
   "id": "d14c6250-b163-4154-ae98-c7e2b579eeb7",
   "metadata": {
    "id": "d3931412-cc62-4538-86f0-7d56d807a61a",
    "outputId": "19324d4a-2237-4a7d-b6a5-5e16c0d43724",
    "tags": []
   },
   "source": [
    "## Part 3: Adding a model to a graph of experimental data"
   ]
  },
  {
   "cell_type": "markdown",
   "id": "f8aca172-f710-4fdf-b434-3fd22f7191bb",
   "metadata": {},
   "source": [
    "When two physical variables $x$ and $y$ are measured in a series of $N$ measurements $x_1, x_2, \\ldots, x_N$ and  $y_1, y_2, \\ldots, y_N$, we will often want to compare the experimental data to a **model** and judge how well the **model describes the experimental data**. Often, the **model** is a mathematical function $f$ such that:\n",
    "\n",
    "$$y = f(x).$$\n",
    "\n",
    "A first comparison can be made **visually** by **adding the model to the graph of the experimental data**. To do this, we will follow the four steps below:\n",
    "\n",
    "1. Find the range of $x$ values that the experimental data span.\n",
    "\n",
    "2. Generate many model $x$ values (`x_model`) over the range of values for which we want to plot the model $y$ values (`y_model`).  We will store these values in a Numpy array (i.e. what we've been calling \"vectors\") so that we can easily do math with them as you practiced in Prelab 04. You might ask why do we need many points? For a straight line the number of points used doesn't matter much, but if the model predicts a more complicated function, using many points will give a curve that looks smooth to the eye.\n",
    "\n",
    "3. Calculate the model $y$ values at each of the model $x$ values, such that $y = f(x)$.\n",
    "\n",
    "4. Plot the model on the graph of the experimental data."
   ]
  },
  {
   "cell_type": "markdown",
   "id": "3b779c1c",
   "metadata": {},
   "source": [
    "For this part of the prelab, let's consider again our spring data which can be modeled with Hooke's Law, $F = k \\Delta x$, and so is best described by a linear model (i.e. a straight line). **Linear models** are often represented as: $$y=mx+b,$$ \n",
    "where $m$ is the **slope** of the line and $b$ is the **$y$-intercept** (i.e. the line intercepts the $y$ axis at $y=b$). In our case, by identification:\n",
    "- $m$ is the spring constant $k$,\n",
    "- $b$ is $0$.\n",
    "\n",
    "In order to create our model predictions, we will need a value for the model parameter $m$ (the slope of the line, and in our case the spring constant).\n",
    "\n",
    "To start with, we can estimate this value by inspection. Based on the graph we plotted in the previous section, we have points at approximately $(0~\\text{m}, 0~\\text{N})$ and $(0.6~\\text{m}, 1.2~\\text{N})$, so a reasonable estimate of the slope (which corresponds to $k$) would be $m = \\frac{1.2 - 0}{0.6 - 0} = 2\\,\\text{N/m}$. \n",
    "\n",
    "**Your turn #7:** Let's use this value to add an initial estimate of our model to our graph.  **Carefully read the comments in the cell below and run it.**"
   ]
  },
  {
   "cell_type": "code",
   "execution_count": null,
   "id": "c425f695-a24f-4bc3-9106-af45b87305c0",
   "metadata": {},
   "outputs": [],
   "source": [
    "# Model – step 1: find the range of x values from the experimental data.\n",
    "x_min = np.min(x_data)  # find the smallest x value\n",
    "x_max = np.max(x_data)  # find the largest x value\n",
    "print(f\"x values span from {x_min} to {x_max}\")\n",
    "\n",
    "# Model – step 2: generate an array of model x values between x_min and x_max\n",
    "# for which we want to plot the model y values.\n",
    "x_model = np.linspace(start=x_min, stop=x_max, num=100)  # return 100 evenly spaced values\n",
    "\n",
    "# Model – step 3: calculate the model y values at each of the model x values.\n",
    "m = 2  # initial estimate of the slope\n",
    "b = 0  # no y-intercept for our model\n",
    "y_model = m * x_model + b\n",
    "\n",
    "# Model – step 4: plot the model on the graph of the experimental data.\n",
    "plt.figure()\n",
    "plt.errorbar(x=x_data, y=y_data, yerr=dy_data, fmt='bo', markersize=3, label=data_label)  # plot experimental data\n",
    "plt.title(graph_title)\n",
    "plt.xlabel(x_label)\n",
    "plt.ylabel(y_label)\n",
    "\n",
    "model_label = \"y = mx + b (model)\"\n",
    "plt.plot(x_model, y_model, \"r-\", label=model_label)  # plot model data\n",
    "plt.legend()\n",
    "\n",
    "plt.show()"
   ]
  },
  {
   "cell_type": "markdown",
   "id": "cbe5d92a-bfa8-4b94-8f6c-741996cfd69f",
   "metadata": {},
   "source": [
    "Note that:\n",
    "* We used `np.linspace()` to create an array of 100 equally spaced `x` values for the model function.  If you've never seen this function before, copy paste that line in its own cell and print out `x_model` for different arguments of `np.linspace()`.  Try different things until you get an idea of how it works: that's the best way to learn.\n",
    "  \n",
    "* We used `plt.plot()` to plot the model line. This is the most bare bones plotting function you will use and it doesn't allow for errorbars like in `plt.errorbar()`. Notice that for `plt.errorbar()` you needed `fmt='bo'` to specify the marker/line style (e.g. color and shape), but for `plt.plot()` the format for plotting can't include the `fmt=` piece (annoying, but this is just how it is)."
   ]
  },
  {
   "cell_type": "markdown",
   "id": "dcfbe785-cb24-40bc-855c-9ec4a1910056",
   "metadata": {},
   "source": [
    "## Part 4: Residuals and fit quality"
   ]
  },
  {
   "cell_type": "markdown",
   "id": "a9bec124-6f7d-4d80-a99e-493a962fefbb",
   "metadata": {},
   "source": [
    "Judging by eye how the model **fits** the experimental data can be helpful at first, but it is not sufficient for a detailed analysis of the experimental data. Therefore, we will introduce a new tool: a **residual plot**. We will use this tool throughout the rest of the course to **improve the quality** of our fits and to estimate the **uncertainty** in the **fit parameters**. In the case of a linear model, the fitting parameters are the slope $m$ and the y-intercept $b$ (in our case $b=0$).\n",
    "\n",
    "The **residual** for each observation (measurement) is the difference between the observed (measured) value of $y$ and the predicted values of $y$. In other words, the residual is a measure of how far a data point lies from the best-fit line, the model $y=f(x)$, along the $y$-direction. So for a given data point on the graph $(x_i, y_i)$, the residual $r_i$ is given by:\n",
    "\n",
    "$$r_i = y_i - f(x_i)$$\n",
    "\n",
    "where $y_i$ is the measured value of $y$; and $f(x_i)$ represents the $y$ value that the model predicts at the point $x_i$ (e.g. in our Hooke's law example we have a linear model with zero y-intercept, i.e. $f(x_i) = mx_i$).\n",
    "\n",
    "Let’s build a graph of the residuals that correspond to each $x$ value and then we will spend a bit more time learning about how they are useful. We will break this process down into a few steps:\n",
    "\n",
    "1. Calculate the model predictions $f(x_1), f(x_2), \\ldots, f(x_N)$ for all the measured values $x_1, x_2, \\ldots, x_N$ (the experimental data).\n",
    "2. Calculate the residuals $r = [r_1, r_2, \\ldots r_N]$ as the difference of the measured $y$ values $[y_1, y_2, \\ldots, y_N]$ and the predicted $y$ values $[f(x_1), f(x_2), \\ldots, f(x_N)]$. Note that these are all Numpy arrays again (i.e. what we've been calling \"vectors\").\n",
    "3. Plot the residuals against the $x$ values [$x_1, x_2, \\ldots, x_N$].\n",
    "4. Add a \"$r = 0$\" line to the plot.\n",
    "\n",
    "To create the residual plot in Python:\n",
    "* We will use the `plt.errorbar()` function since the residuals have uncertainties.  In fact, they have the **same** uncertainties as our $y$-data uncertainties, `dy_data`. This is because there are no uncertainties associated with the model predictions, thus the uncertainties in the residuals (the difference between data and model) are just the uncertainties in the data $y$ values.\n",
    "  \n",
    "* We will also modify the labelling of the plot (axis labels, title) to make sure what is being plotted is as clear as possible.\n",
    "\n",
    "**Your turn #8:** Let's plot the residuals of our example with the spring data and the Hooke's law model as per the 4 steps outlined above. **Carefully read the comments in the cell below and run it.**"
   ]
  },
  {
   "cell_type": "code",
   "execution_count": null,
   "id": "7d376812-1abf-4f67-a3ae-c67480096337",
   "metadata": {},
   "outputs": [],
   "source": [
    "# Residuals – step 1: calculate the model predictions y_prediction for each of\n",
    "# the measured x_data values.\n",
    "y_prediction = m * x_data + b\n",
    "\n",
    "# Residuals – step 2: calculate the residuals.\n",
    "residuals = y_data - y_prediction\n",
    "\n",
    "# Residuals – step 3: plot the residuals against the measured x_data values.\n",
    "residual_graph_title = (\"Residuals for Hooke's law investigation using spring compression\")\n",
    "residual_y_label = \"residual = data - model (N)\"\n",
    "plt.figure()\n",
    "plt.errorbar(x=x_data, y=residuals, yerr=dy_data, fmt='bo', markersize=3, label=data_label)\n",
    "plt.title(residual_graph_title)\n",
    "plt.xlabel(x_label)  # re-use the x_label from the scatter plot with model\n",
    "plt.ylabel(residual_y_label)\n",
    "\n",
    "# Residuals – step 4: add a horizontal line at r=0 to the plot.\n",
    "plt.hlines(y=0, xmin=x_min, xmax=x_max, color='k')\n",
    "\n",
    "plt.show()"
   ]
  },
  {
   "cell_type": "markdown",
   "id": "80308ec9-2ef2-4fd4-adf8-f7ed7a6091bf",
   "metadata": {},
   "source": [
    "The residuals - the difference between the model and the data - give us more resolution than looking at our original scatter plot that included the data and the model. In this case, we can see from the residual plot that the residuals are trending upward as we move to the right. This suggests that we could improve our model to better fit the data. In this case, we will want to increase the slope of the model to account for the current upward trend in the residuals. \n",
    "\n",
    "Usually, it is standard to plot your data + model plot as well as the corresponding residuals plot in the same cell, for ease of viewing. We do this below."
   ]
  },
  {
   "cell_type": "markdown",
   "id": "279d7e41-08af-4402-b2be-19c0310bc336",
   "metadata": {},
   "source": [
    "## Part 5: A complete example for making a scatter and residual plot all in one cell"
   ]
  },
  {
   "cell_type": "code",
   "execution_count": null,
   "id": "8770aad7",
   "metadata": {},
   "outputs": [],
   "source": [
    "# Model – step 1: find the range of x values from the experimental data.\n",
    "x_data = DxVec\n",
    "y_data = FVec\n",
    "dy_data = dFVec\n",
    "x_min = np.min(x_data)  # find the smallest x value\n",
    "x_max = np.max(x_data)  # find the largest x value\n",
    "\n",
    "# Model – step 2: generate an array of model x values between x_min and x_max\n",
    "# for which we want to plot the model y values.\n",
    "x_model = np.linspace(start=x_min, stop=x_max, num=100)  # return 100 evenly spaced values\n",
    "\n",
    "# Model – step 3: calculate the model y values at each of the model x values.\n",
    "m = 2  # initial estimate of the slope\n",
    "b = 0  # no y-intercept for our model\n",
    "y_model = m * x_model + b\n",
    "\n",
    "# Model – step 4: plot the model on the graph of the experimental data.\n",
    "# Define all your labels first\n",
    "data_label = \"Round 1 data\"\n",
    "model_label = \"y = mx + b (model)\"\n",
    "graph_title = \"Hooke's law investigation using spring compression\"\n",
    "x_label = \"Displacement of spring from equilibrium (m)\"\n",
    "y_label = \"Force (N)\"\n",
    "\n",
    "# create your plots\n",
    "plt.errorbar(x=x_data, y=y_data, yerr=dy_data, fmt='bo', markersize=3, label=data_label)  # plot experimental data\n",
    "plt.plot(x_model, y_model, \"r-\", label=model_label)  # plot model data\n",
    "plt.title(graph_title)\n",
    "plt.xlabel(x_label)\n",
    "plt.ylabel(y_label)\n",
    "plt.legend()\n",
    "\n",
    "# Residuals – step 1: calculate the model predictions y_prediction for each of\n",
    "# the measured x_data values.\n",
    "y_prediction = m * x_data + b\n",
    "\n",
    "# Residuals – step 2: calculate the residuals.\n",
    "residuals = y_data - y_prediction\n",
    "\n",
    "# Residuals – step 3: plot the residuals against the measured x_data values.\n",
    "residual_graph_title = (\"Residuals for Hooke's law investigation using spring compression\")\n",
    "residual_y_label = \"residual = data - model (N)\"\n",
    "plt.figure()\n",
    "plt.errorbar(x=x_data, y=residuals, yerr=dy_data, fmt='bo', markersize=3, label=data_label)\n",
    "plt.title(residual_graph_title)\n",
    "plt.xlabel(x_label)  # re-use the x_label from the scatter plot with model\n",
    "plt.ylabel(residual_y_label)\n",
    "\n",
    "# Residuals – step 4: add a horizontal line at r=0 to the plot.\n",
    "plt.hlines(y=0, xmin=x_min, xmax=x_max, color='k')\n",
    "plt.show()"
   ]
  },
  {
   "cell_type": "markdown",
   "id": "e2a788e3-1f7e-4da1-81f4-9f59cd9ab254",
   "metadata": {},
   "source": [
    "Let’s take a moment to see how these two graphs each present the same overall information, but with different emphases. \n",
    "\n",
    "* The main scatter plot, on top, shows our data points and the model. We can see that, within their uncertainties, all of our data points lie along the model line or above it.\n",
    "  \n",
    "* The residual plot, on the bottom, shows how far each data point is away from the model, thus we can see a bit more clearly that the left-most data point lies exactly at $r = 0$ (the model predicts this data point exactly) and all of the other data points have positive residuals (data - model), meaning that model is predicting lower values of force than what was found by the data. The residuals graph can be thought of as a zoomed-in representation of the data points as seen from the perspective of the model line.\n",
    "\n",
    "The zoomed-in nature of the residual plot (in comparison to the top scatterplot with model) allows us to better analyze the agreement between the two. This makes residual plots an extremely useful tool for evaluating the quality of fits and for modifying models, which you are now going to do below. "
   ]
  },
  {
   "cell_type": "markdown",
   "id": "ff3b258a-894f-415c-854a-2180846d6e49",
   "metadata": {},
   "source": [
    "## Part 6: Interactive curve fitting with `fit_plot`\n",
    "\n",
    "If all we had were the above graphs, you'd have to repeatedly re-run the above cell with new fit parameters to visually assess the fit quality. This would get annoying after a while, so here we introduce `fit_plot`, a custom Python package that allows us to change our slope $m$ and $y$-intercept $b$ model parameters interactively instead of re-running the same code cell each time we change a model parameter. \n",
    "\n",
    "**This interactive fitting tool is what you will use for the next labs to fit your data.** Let's see how it works by first running the next cell to import the tool into this notebook."
   ]
  },
  {
   "cell_type": "code",
   "execution_count": null,
   "id": "d1244663",
   "metadata": {},
   "outputs": [],
   "source": [
    "# Import the custom Python package fit_plot.\n",
    "%matplotlib widget\n",
    "import fit_plot"
   ]
  },
  {
   "cell_type": "markdown",
   "id": "3d41110f-9a7f-453f-b8b1-09ad1c541130",
   "metadata": {},
   "source": [
    "When using this package to fit a linear model to data, we use the `fit_plot.line()` function with the following arguments\n",
    "\n",
    "```Python\n",
    "fit_plot.line(\n",
    "    unique_graph_title,  # a unique name that will be used for the graph title\n",
    "    x,  # scatter-plot x data \n",
    "    y,  # scatter-plot y data \n",
    "    del_y  # uncertainties in our y data\n",
    ")\n",
    "```\n",
    "**IMPORTANT:** Each instance of `fit_plot.line()` saves its fitting parameters to a Python object that has the name associated with the `unique_graph_title` argument, meaning that if you use `fit_plot.line()` multiple times in the same notebook in different cells, you will want to make sure that each of these instances has its own `unique_graph_title`.\n",
    "\n",
    "The following image shows the initial state when calling `fit_plot.line()` with the $x-$ and $y-$ spring data we have been considering so far. It includes a scatter plot and residual plot by default. The default initial guesses are always `slope = 0` and `intercept` equal to the average $y$ values.\n",
    "\n",
    "![example initial state for the fit_plot widget](https://i.ibb.co/V3PQV77/initial-fit.png)"
   ]
  },
  {
   "cell_type": "markdown",
   "id": "6b50682e-af2d-4de1-8148-e4b10c07581e",
   "metadata": {},
   "source": [
    "**Your turn #9:** Let's use `fit_plot.line()` for our first interactive fitting session.\n",
    "\n",
    "Run the code block below and try the following:\n",
    "1. Manually change the values in the boxes below the graphs to `slope = 2` and `intercept = 0` to reproduce our earlier scatter plot and residual graphs.\n",
    "   * Hint: press `Enter` on your keyboard after changing a number. \n",
    "2. Try clicking in various locations within the scatter plot and residuals graphs and see how the interactive fitting session responds. See if you can find a set of parameters that corresponds to an even better fit than `slope = 2` and `intercept = 0`. It is up to your judgment what constitutes a \"better fit\", but it will be helpful to pay close attention to the residual plot.\n",
    "\n",
    "**Please note:** If you encounter unexpected behaviour with the interactive fitting tool, you can typically fix it by either running the same block of code a second time or re-starting your notebook.  Further troubleshooting tips are available on Canvas on the \"Python Tips and Troubleshooting Jupyter Issues\" page."
   ]
  },
  {
   "cell_type": "code",
   "execution_count": null,
   "id": "aa2beb34-68b4-4b35-9f7c-b26ceab46450",
   "metadata": {},
   "outputs": [],
   "source": [
    "# Run me to launch an interactive fit_plot widget\n",
    "x = DxVec\n",
    "y = FVec\n",
    "dy = dFVec\n",
    "unique_graph_title = \"Our first interactive fit of Hooke's Law data\"\n",
    "\n",
    "fit_plot.line(unique_graph_title, x, y, dy)"
   ]
  },
  {
   "cell_type": "markdown",
   "id": "3ae2b490-a046-4407-86fb-855914e86bf0",
   "metadata": {},
   "source": [
    "**Your turn #10:** After playing around with the interactive fitting above, reset the values back to `slope = 2` and `intercept = 0` using the text boxes. \n",
    "\n",
    "Let's gain a better sense of the range of fitting parameters that give us reasonably good fits. Return to the interactive fitting widget above and try out slopes of `1.7`, `1.8`, `1.9`, `2.0`, `2.1`, `2.2` and `2.3 (N/m)`, while keeping `intercept = 0`. Place each of these slopes into one of the following categories: \n",
    "\n",
    "1. **Best fits** (fits where it seems like there is little room for improvement),\n",
    "2. **Decent fits** (reasonable fits where there is still room for small obvious improvements), or\n",
    "3. **Poor fits**.\n",
    "\n",
    "_Hints:_\n",
    "\n",
    "* For a good fit we are looking to have approximately equal scatter of the residuals above and below the `Residuals = 0` horizontal line, which would also correspond to an approximately equal scatter of the data points above and below the model on the scatter plot.\n",
    "  \n",
    "* For a good fit, there should be no obvious trends in the residuals. An example of an obvious trend is the small but noticeable upward trend we saw for slope = 2.0.\n",
    "\n",
    "* Finally, if the uncertainties are well-characterized (neither overestimated or underestimated) and we are using an appropriate model, we will expect that approximately 68% of the residuals will have their error bars touch the horizontal `Residuals = 0` line."
   ]
  },
  {
   "cell_type": "markdown",
   "id": "c57f0b7c-4d88-4760-afd2-24b63e5d1867",
   "metadata": {},
   "source": [
    "Categorize the slopes 1.7, 1.8, 1.9, 2.0, 2.1, 2.2 and 2.3 (N/m) here:\n",
    "\n",
    "* Best fits:\n",
    "* Decent fits:\n",
    "* Poor fits:"
   ]
  },
  {
   "cell_type": "markdown",
   "id": "7696d494-183e-4615-b955-dbac96d49272",
   "metadata": {
    "jp-MarkdownHeadingCollapsed": true,
    "tags": []
   },
   "source": [
    "#### Answers:"
   ]
  },
  {
   "cell_type": "markdown",
   "id": "0f388a9a-ea10-430c-8bad-7e22eff6640e",
   "metadata": {},
   "source": [
    "* Best fits: 2.1\n",
    "* Decent fits: 2.0, 2.2\n",
    "* Poor fits: 1.7, 1.8, 1.9, 2.3 "
   ]
  },
  {
   "cell_type": "markdown",
   "id": "93eff06a-d152-4b75-9d45-0049e07cb48c",
   "metadata": {},
   "source": [
    "## Part 7: Estimating uncertainty of the slope"
   ]
  },
  {
   "cell_type": "markdown",
   "id": "a5d14f54-9b0c-481a-b847-fe981635218c",
   "metadata": {},
   "source": [
    "In \"**Your turn #10**\", we found that the model decently fit the data for slopes in the range 2.0 - 2.2. How does this range allow us to find the uncertainty in the slope? Given that the residuals are distributed with the same pdf as our $y$ measurements, and that our range was estimated based on the errorbars of our data, which represent $\\pm$ one standard deviation, this range approximately corresponds to the 68% confidence interval for the slope. \n",
    "\n",
    "Therefore, to estimate uncertainties in fitting parameters, we will use the method of looking at the range of reasonable best-fit lines and treating that as a 68% confidence interval. As with the standard error of the mean, we will also include a factor of $\\sqrt{N}$ to account for the increased precision due to the fact that our best estimates come from $N$ data point being fit.\n",
    "\n",
    "For example, to calculate the uncertainty of the slope:\n",
    "1. Find the steepest possible best-fit line (i.e. the \"max\", as in the maximum slope) that still does a reasonable job of fitting the data.\n",
    "2. Find the least steep best-fit line (i.e. the \"min\", as in the minimum slope) that still does a reasonable job of fitting the data.\n",
    "3. Calculate the range between the \"max\" and \"min\" reasonable values for the slope.\n",
    "4. The range between the maximum and minimum reasonable slope is our 68% confidence interval for the slope, and so we need to divide this difference by 2 to get a standard deviation equivalent.\n",
    "5. To reward us with increased confidence in our result for more data collected, we determine the final uncertainty in our slope by dividing the value from the previous step by $\\sqrt{N}$, where $N$ is our number of data points being fit.\n",
    "\n",
    "**Your turn #11:** Run the cell below to calculate the best estimate in the slope alongside its uncertainty."
   ]
  },
  {
   "cell_type": "code",
   "execution_count": null,
   "id": "143022fc-d4b2-4ce7-b758-d85c06f37826",
   "metadata": {
    "tags": []
   },
   "outputs": [],
   "source": [
    "# Run this code to see how to calculate the slope uncertainty as per the \n",
    "# steps above\n",
    "\n",
    "slope_max = 2.2\n",
    "slope_min = 2.0\n",
    "slope_best = 2.1\n",
    "\n",
    "N = len(FVec)  # the number of data points we plotted\n",
    "\n",
    "#calculate the uncertainty in the slope\n",
    "slope_uncertainty = (slope_max - slope_min) / (2 * np.sqrt(N))\n",
    "print(f\"The model slope is: {slope_best:.3f} ± {slope_uncertainty:.2} N/m\")"
   ]
  },
  {
   "cell_type": "markdown",
   "id": "86778ff3-0082-4e09-8858-167549cc1a1d",
   "metadata": {},
   "source": [
    "## Part 8: Fitting the Ohm's Law data"
   ]
  },
  {
   "cell_type": "markdown",
   "id": "61dfadb6-0bc0-4edb-aa54-67eee5d7cd4b",
   "metadata": {},
   "source": [
    "**Your turn #12:** Now that we've gone through a fitting example together, it is your turn to repeat these steps with the interactive `fit_plot` widget using the Ohm's Law data we started the pre-lab with. The goal is create your own version of the very first graph we saw at the start of this prelab and fit it with the Ohm's law model. Consult the first parts of this prelab to remind yourself of what the variables $V_{R_1}$ (labeled as `Vr1` in the spreadsheet data below), $V_\\mathrm{s}$ (`Vs` in spreadsheet data) and $I$ (`I` in spreadsheet data) all represent. \n",
    "\n",
    "\n",
    "_Hints_\n",
    "\n",
    "* Since we have a data point that corresponds to $I=0$ and $V_{R_1}=0$, a reasonable starting point while fitting the data is to assume that we can keep our y-intercept as `intercept = 0`. However, if you find that changing your `intercept` to something other than `0` makes a noticeably better fit, you can use an `intercept` with a value other than `0`.\n",
    "* To find the minimum (or maximum) slope, decrease (or increase) the slope from your best slope until the model no longer does an \"at-all-reasonable\" job of fitting the data."
   ]
  },
  {
   "cell_type": "code",
   "execution_count": null,
   "id": "871dc0c5-a7c8-4740-b808-c54587ffbb6d",
   "metadata": {},
   "outputs": [],
   "source": [
    "# Run me to load the Ohm's Law data\n",
    "# Make sure to press \"Generate Vectors\" afterward\n",
    "\n",
    "de_ol = data_entry2.sheet(\"prelab05_ohms_law\")"
   ]
  },
  {
   "cell_type": "code",
   "execution_count": null,
   "id": "cb9c6d0d-ce2a-4800-9f94-9df286e03640",
   "metadata": {},
   "outputs": [],
   "source": [
    "# Run me to launch an interactive fit_plot widget for the Ohm's Law data\n",
    "\n",
    "import fit_plot\n",
    "%matplotlib widget\n",
    "\n",
    "x = IVec\n",
    "y = Vr1Vec\n",
    "dy = dVr1Vec \n",
    "\n",
    "# Important reminder! We needed to change the unique_graph_title name\n",
    "unique_graph_title = \"Our first interactive fit of Ohm's Law data\"\n",
    "\n",
    "fit_plot.line(unique_graph_title, x, y, dy)"
   ]
  },
  {
   "cell_type": "code",
   "execution_count": null,
   "id": "350df0e7-700b-4520-bc62-60ea880eba46",
   "metadata": {},
   "outputs": [],
   "source": [
    "# For the Ohm's law data: fill in your your best, min and \n",
    "# max reasonable slopes, and then calculate del_slope\n",
    "\n",
    "slope_max = \n",
    "slope_min = \n",
    "slope_best = \n",
    "\n",
    "N = len(Vr1Vec)\n",
    "\n",
    "del_slope = (slope_max - slope_min) / (2 * np.sqrt(N))\n",
    "\n",
    "print(f\"The model slope is: {slope_best:.3f} ± {del_slope:.3f} Ohms\")"
   ]
  },
  {
   "cell_type": "markdown",
   "id": "c6bba0ef-a1ac-499e-b6f0-b0c2abbf6726",
   "metadata": {
    "jp-MarkdownHeadingCollapsed": true,
    "tags": []
   },
   "source": [
    "#### Answers:"
   ]
  },
  {
   "cell_type": "code",
   "execution_count": null,
   "id": "30cef8d3-638a-4e5d-b4ca-ac77d2de54f8",
   "metadata": {
    "tags": []
   },
   "outputs": [],
   "source": [
    "# Since we are approximating the slope uncertainty, your answer might be\n",
    "# slightly different. Your uncertainty should be within a factor of two of\n",
    "# this answer.\n",
    "\n",
    "slope_best = 9.9\n",
    "slope_max = 10.2\n",
    "slope_min = 9.65\n",
    "\n",
    "N = len(Vr1Vec)\n",
    "\n",
    "slope_uncertainty = (slope_max - slope_min) / (2 * np.sqrt(N))\n",
    "\n",
    "print(f\"The model slope is: {slope_best:.3f} ± {slope_uncertainty:.2} Ohms\")"
   ]
  },
  {
   "cell_type": "markdown",
   "id": "41a9826c-109e-4cee-98c9-da580c27d156",
   "metadata": {
    "id": "41a9826c-109e-4cee-98c9-da580c27d156"
   },
   "source": [
    "## Part 9: Plotting with Python - Your turn! "
   ]
  },
  {
   "cell_type": "markdown",
   "id": "b1111d7b-fe64-4fc6-9700-33f41022cf76",
   "metadata": {},
   "source": [
    "Although `fit_plot.line()` does a great job of helping you fit data with a model, the resulting graphs are **not** satisfactory to summarize your results in your notebook. When summarizing your result, you need to re-create the scatter plot with the model line and the residuals graph with proper axis labels, titles and a legend, all of which are missing from the interactive fitting tool. Fortunately, you've had plenty of practice in this pre-lab making these plots using `plt.errorbar()`, `plt.plot()`.\n",
    "\n",
    "**Your turn #13:** Now that you have completed the interactive fitting of the Ohm's Law data, it is your turn to follow our previous steps to create your own \"final\" versions of the scatter plot with model line, and the residual plot. These graphs should have titles, axis labels and a legend, as appropriate, similar to the graphs produced by the code under Section \"Part 5: A complete example for making a scatter and residual plot\". \n",
    "\n",
    "_Hints:_ \n",
    "* Instead of starting from scratch, copy the code cell under the \"Part 5\" section header and modify the plotting variable assignment for the vectors being plotted here (e.g., `x_data = DxVec` should instead be assigned to your Ohm's law $x-$ axis data), as well as the axis labels/title appropriate for a Voltage vs Current plot.\n",
    "  \n",
    "* You already found your best slope with your interactive fitting session above so you should use it for your slope `m` in these graphs. If you found that your best fit had a non-zero intercept too, make sure to update your `b` value in the code."
   ]
  },
  {
   "cell_type": "code",
   "execution_count": null,
   "id": "0a4dcd41-dd1f-43ae-967f-0b4915463e54",
   "metadata": {},
   "outputs": [],
   "source": [
    "# Use this cell to create your scatter plot with model, and your residual plot\n",
    "\n",
    "\n"
   ]
  },
  {
   "cell_type": "markdown",
   "id": "920f8235-f990-453a-8aff-d514c4b868cc",
   "metadata": {},
   "source": [
    "## Preparing your Lab 05 notebook\n",
    "In this final set of tasks you will prepare your Lab 05 notebook for data collection and analysis\n",
    "\n",
    "**Your turn #14:**\n",
    "1. Open the Lab 05 Instructions on Canvas and take a couple of minutes to read through them so that you have a sense of how you will be spending your time during the lab.\n",
    "2. We provided a spreadsheet template (column names only) in Part D of your lab notebook because the data you collect in the lab will be of the same format as the example Ohm's law data from this prelab. Copy in and modify your code as needed from this prelab so that, once you have collected some data you will be ready:\n",
    "   * To perform an interactive fitting session using `fit_plot.line()` like you did in Part 6 of this prelab,\n",
    "   * To calculate `slope` and `slope_uncertainty` and,\n",
    "   * To make a good set of plots consisting of a scatter plot and residual plot with a legend and all of the approrpriate titles (like you did for Your turn #13).\n",
    "\n",
    "You can optionally use the \"prelab05_ohms_law\" spreadsheet data you used in this prelab to ensure your copied over code in your Lab 05 notebook is functioning correctly. \n",
    "\n",
    "You should now be ready for data collection and data analysis in the lab."
   ]
  },
  {
   "cell_type": "markdown",
   "id": "65020937-116c-456b-98b1-6bbfae74c937",
   "metadata": {},
   "source": [
    "# Submit\n",
    "\n",
    "Steps for submission:\n",
    "\n",
    "1. Click: Run => Run_All_Cells\n",
    "2. Read through the notebook to ensure all the cells executed correctly and without error.\n",
    "3. File => Save_and_Export_Notebook_As->HTML\n",
    "4. Upload the HTML document to the lab submission assignment on Canvas."
   ]
  }
 ],
 "metadata": {
  "colab": {
   "collapsed_sections": [],
   "name": "lab05_prelab.ipynb",
   "provenance": []
  },
  "kernelspec": {
   "display_name": "Python 3 (ipykernel)",
   "language": "python",
   "name": "python3"
  },
  "language_info": {
   "codemirror_mode": {
    "name": "ipython",
    "version": 3
   },
   "file_extension": ".py",
   "mimetype": "text/x-python",
   "name": "python",
   "nbconvert_exporter": "python",
   "pygments_lexer": "ipython3",
   "version": "3.13.5"
  },
  "widgets": {
   "application/vnd.jupyter.widget-state+json": {
    "state": {
     "0225ce9b24c34efe823b049bf448d0ad": {
      "model_module": "@jupyter-widgets/controls",
      "model_module_version": "2.0.0",
      "model_name": "ButtonStyleModel",
      "state": {
       "font_family": null,
       "font_size": null,
       "font_style": null,
       "font_variant": null,
       "font_weight": null,
       "text_color": null,
       "text_decoration": null
      }
     },
     "04648c02e10d4c35a764e5ff4cfc4052": {
      "model_module": "ipydatagrid",
      "model_module_version": "^1.1.16",
      "model_name": "VegaExprModel",
      "state": {
       "_model_module_version": "^1.1.16",
       "_view_module": "ipydatagrid",
       "_view_module_version": "^1.1.16",
       "_view_name": "VegaExprView"
      }
     },
     "05b72223df2e4f9ba1f2b23c7542ca03": {
      "model_module": "ipydatagrid",
      "model_module_version": "^1.1.16",
      "model_name": "VegaExprModel",
      "state": {
       "_model_module_version": "^1.1.16",
       "_view_module": "ipydatagrid",
       "_view_module_version": "^1.1.16",
       "_view_name": "VegaExprView"
      }
     },
     "07f5f60b43dd4748838e28e678849595": {
      "model_module": "ipydatagrid",
      "model_module_version": "^1.1.16",
      "model_name": "VegaExprModel",
      "state": {
       "_model_module_version": "^1.1.16",
       "_view_module": "ipydatagrid",
       "_view_module_version": "^1.1.16",
       "_view_name": "VegaExprView"
      }
     },
     "10c805074dc24606a644d3494790e9f4": {
      "model_module": "@jupyter-widgets/controls",
      "model_module_version": "2.0.0",
      "model_name": "ButtonStyleModel",
      "state": {
       "font_family": null,
       "font_size": null,
       "font_style": null,
       "font_variant": null,
       "font_weight": null,
       "text_color": null,
       "text_decoration": null
      }
     },
     "10e38fc613fa45c68aa386e28c206d85": {
      "model_module": "@jupyter-widgets/controls",
      "model_module_version": "2.0.0",
      "model_name": "ButtonModel",
      "state": {
       "description": "Add Column",
       "layout": "IPY_MODEL_690d76de931f47eabd76e0006b78ce8a",
       "style": "IPY_MODEL_9b70b3e879fa49559d7a174c8f358f37",
       "tooltip": null
      }
     },
     "15361f6b7d944a0393c9c471beab45ce": {
      "model_module": "@jupyter-widgets/base",
      "model_module_version": "2.0.0",
      "model_name": "LayoutModel",
      "state": {}
     },
     "17fb57ed97c24998a53cd3d86920ab14": {
      "model_module": "@jupyter-widgets/base",
      "model_module_version": "2.0.0",
      "model_name": "LayoutModel",
      "state": {}
     },
     "1d1ebbcd36e34e17b86dd40a8fe3b04b": {
      "model_module": "@jupyter-widgets/base",
      "model_module_version": "2.0.0",
      "model_name": "LayoutModel",
      "state": {}
     },
     "1f814e326ae240a2970409aed178eb1a": {
      "model_module": "@jupyter-widgets/controls",
      "model_module_version": "2.0.0",
      "model_name": "VBoxModel",
      "state": {
       "children": [
        "IPY_MODEL_722cc770a01b4a4d8545fa9c702208d0",
        "IPY_MODEL_b9849c74285d41329de745084f9d691d",
        "IPY_MODEL_e0c2af9ccc7843dd829eec37b7831fb0"
       ],
       "layout": "IPY_MODEL_b19ec162f5ff492091b248bc5b2a62f3"
      }
     },
     "1fa1e07d601d48889fb1095c77e602b4": {
      "model_module": "@jupyter-widgets/base",
      "model_module_version": "2.0.0",
      "model_name": "LayoutModel",
      "state": {}
     },
     "2149fbea0f8b4926bc2e9bc03069e789": {
      "model_module": "@jupyter-widgets/controls",
      "model_module_version": "2.0.0",
      "model_name": "VBoxModel",
      "state": {
       "children": [
        "IPY_MODEL_eca316377de549bb9aea1d338303363b",
        "IPY_MODEL_cdd02f7fd16e47a5ac1a31f936a29f60",
        "IPY_MODEL_6fd36f2b495046399a0e536955d487b6"
       ],
       "layout": "IPY_MODEL_f4f0316a79a84083b6c9ea9abf5bf25a"
      }
     },
     "324229cde0914dbdb1cb2b647061b71b": {
      "model_module": "@jupyter-widgets/controls",
      "model_module_version": "2.0.0",
      "model_name": "ButtonStyleModel",
      "state": {
       "font_family": null,
       "font_size": null,
       "font_style": null,
       "font_variant": null,
       "font_weight": null,
       "text_color": null,
       "text_decoration": null
      }
     },
     "336a8da76fac4a8ab83cab7009385e2c": {
      "model_module": "@jupyter-widgets/base",
      "model_module_version": "2.0.0",
      "model_name": "LayoutModel",
      "state": {}
     },
     "3a8c046e56ec46aab8e5f9782d031bf1": {
      "model_module": "@jupyter-widgets/controls",
      "model_module_version": "2.0.0",
      "model_name": "ButtonStyleModel",
      "state": {
       "font_family": null,
       "font_size": null,
       "font_style": null,
       "font_variant": null,
       "font_weight": null,
       "text_color": null,
       "text_decoration": null
      }
     },
     "3bf2a4165dc4448dad170774de0cd885": {
      "model_module": "@jupyter-widgets/base",
      "model_module_version": "2.0.0",
      "model_name": "LayoutModel",
      "state": {}
     },
     "3f2b6dd394e340dda73504de2349b3a8": {
      "model_module": "@jupyter-widgets/controls",
      "model_module_version": "2.0.0",
      "model_name": "ButtonStyleModel",
      "state": {
       "font_family": null,
       "font_size": null,
       "font_style": null,
       "font_variant": null,
       "font_weight": null,
       "text_color": null,
       "text_decoration": null
      }
     },
     "3f37ed9f365949efbfdf5dd3352c9b84": {
      "model_module": "@jupyter-widgets/base",
      "model_module_version": "2.0.0",
      "model_name": "LayoutModel",
      "state": {}
     },
     "3fa7655e1836404dbcdceb5da5dbd93c": {
      "model_module": "@jupyter-widgets/base",
      "model_module_version": "2.0.0",
      "model_name": "LayoutModel",
      "state": {}
     },
     "3faff197ddf54b4dbd45cc74ea1f359d": {
      "model_module": "@jupyter-widgets/base",
      "model_module_version": "2.0.0",
      "model_name": "LayoutModel",
      "state": {}
     },
     "433be9ee9228462688a91bb42bcb8593": {
      "model_module": "@jupyter-widgets/controls",
      "model_module_version": "2.0.0",
      "model_name": "ButtonStyleModel",
      "state": {
       "font_family": null,
       "font_size": null,
       "font_style": null,
       "font_variant": null,
       "font_weight": null,
       "text_color": null,
       "text_decoration": null
      }
     },
     "44c1cfcb9ded4fc19eb2bd282e46b97e": {
      "model_module": "@jupyter-widgets/base",
      "model_module_version": "2.0.0",
      "model_name": "LayoutModel",
      "state": {}
     },
     "472be913661f4c9e8efefde6b66efe86": {
      "model_module": "@jupyter-widgets/base",
      "model_module_version": "2.0.0",
      "model_name": "LayoutModel",
      "state": {}
     },
     "48a097d266a84a64aad83e09834f8047": {
      "model_module": "@jupyter-widgets/controls",
      "model_module_version": "2.0.0",
      "model_name": "ButtonModel",
      "state": {
       "description": "Undo",
       "layout": "IPY_MODEL_472be913661f4c9e8efefde6b66efe86",
       "style": "IPY_MODEL_7c0071f3941f445fb50e81764a0e624e",
       "tooltip": null
      }
     },
     "54894fbfba654f6c80915a53153f2733": {
      "model_module": "@jupyter-widgets/base",
      "model_module_version": "2.0.0",
      "model_name": "LayoutModel",
      "state": {
       "height": "250px"
      }
     },
     "574ce96fc183440b92d42a51778ffd84": {
      "model_module": "@jupyter-widgets/base",
      "model_module_version": "2.0.0",
      "model_name": "LayoutModel",
      "state": {}
     },
     "57cc7a29104f4e2b8810046de5509846": {
      "model_module": "@jupyter-widgets/controls",
      "model_module_version": "2.0.0",
      "model_name": "ButtonModel",
      "state": {
       "description": "Redo",
       "layout": "IPY_MODEL_beaaac6dddc94388a4a21a8df8752461",
       "style": "IPY_MODEL_433be9ee9228462688a91bb42bcb8593",
       "tooltip": null
      }
     },
     "59c509a84c6f4628a26af40f8799739f": {
      "model_module": "@jupyter-widgets/base",
      "model_module_version": "2.0.0",
      "model_name": "LayoutModel",
      "state": {}
     },
     "5c1b9fefe0954a939411c5574f936595": {
      "model_module": "@jupyter-widgets/controls",
      "model_module_version": "2.0.0",
      "model_name": "ButtonStyleModel",
      "state": {
       "font_family": null,
       "font_size": null,
       "font_style": null,
       "font_variant": null,
       "font_weight": null,
       "text_color": null,
       "text_decoration": null
      }
     },
     "5ceb0af73fad4a538891f08ec2d7ae79": {
      "model_module": "@jupyter-widgets/controls",
      "model_module_version": "2.0.0",
      "model_name": "ButtonStyleModel",
      "state": {
       "font_family": null,
       "font_size": null,
       "font_style": null,
       "font_variant": null,
       "font_weight": null,
       "text_color": null,
       "text_decoration": null
      }
     },
     "5e1e6efbb2fa46afab762b0266d7cd92": {
      "model_module": "ipydatagrid",
      "model_module_version": "^1.1.16",
      "model_name": "TextRendererModel",
      "state": {
       "_model_module_version": "^1.1.16",
       "_view_module_version": "^1.1.16",
       "background_color": "IPY_MODEL_04648c02e10d4c35a764e5ff4cfc4052",
       "text_color": "IPY_MODEL_ea170c12f810475e93ae43f5facf5bf5"
      }
     },
     "5e9173536c95413e93f158a0b23e259e": {
      "model_module": "@jupyter-widgets/base",
      "model_module_version": "2.0.0",
      "model_name": "LayoutModel",
      "state": {}
     },
     "5ea8054d1df844808c536686d616ac7f": {
      "model_module": "@jupyter-widgets/base",
      "model_module_version": "2.0.0",
      "model_name": "LayoutModel",
      "state": {}
     },
     "5fc53a2ea23b449cbd8ca982d8f50fef": {
      "model_module": "@jupyter-widgets/base",
      "model_module_version": "2.0.0",
      "model_name": "LayoutModel",
      "state": {}
     },
     "690d76de931f47eabd76e0006b78ce8a": {
      "model_module": "@jupyter-widgets/base",
      "model_module_version": "2.0.0",
      "model_name": "LayoutModel",
      "state": {}
     },
     "6a082094a13a4f5d9a3180871467cfbc": {
      "model_module": "@jupyter-widgets/controls",
      "model_module_version": "2.0.0",
      "model_name": "ButtonModel",
      "state": {
       "description": "Generate Vectors",
       "layout": "IPY_MODEL_15361f6b7d944a0393c9c471beab45ce",
       "style": "IPY_MODEL_10c805074dc24606a644d3494790e9f4",
       "tooltip": null
      }
     },
     "6afdff6735754f6889f6556053becbd6": {
      "model_module": "ipydatagrid",
      "model_module_version": "^1.1.16",
      "model_name": "DataGridModel",
      "state": {
       "_data": {
        "data": [
         {
          "0": "Dx",
          "1": "dDx",
          "2": "F",
          "3": "dF",
          "ipydguuid": 0,
          "key": "  Variable:"
         },
         {
          "0": "m",
          "1": "m",
          "2": "N",
          "3": "N",
          "ipydguuid": 1,
          "key": " Units:"
         },
         {
          "0": "0",
          "1": "0.01",
          "2": "0",
          "3": "0.02",
          "ipydguuid": 2,
          "key": 0
         },
         {
          "0": "0.12",
          "1": "0.01",
          "2": "0.26",
          "3": "0.02",
          "ipydguuid": 3,
          "key": 1
         },
         {
          "0": "0.21",
          "1": "0.01",
          "2": "0.43",
          "3": "0.03",
          "ipydguuid": 4,
          "key": 2
         },
         {
          "0": "0.29",
          "1": "0.01",
          "2": "0.63",
          "3": "0.03",
          "ipydguuid": 5,
          "key": 3
         },
         {
          "0": "0.40",
          "1": "0.01",
          "2": "0.81",
          "3": "0.03",
          "ipydguuid": 6,
          "key": 4
         },
         {
          "0": "0.48",
          "1": "0.01",
          "2": "1.05",
          "3": "0.04",
          "ipydguuid": 7,
          "key": 5
         },
         {
          "0": "0.60",
          "1": "0.01",
          "2": "1.23",
          "3": "0.04",
          "ipydguuid": 8,
          "key": 6
         }
        ],
        "fields": [
         {
          "key": null
         },
         {
          "0": null
         },
         {
          "1": null
         },
         {
          "2": null
         },
         {
          "3": null
         },
         {
          "ipydguuid": null
         }
        ],
        "schema": {
         "fields": [
          {
           "name": "key",
           "type": "string"
          },
          {
           "name": 0,
           "type": "string"
          },
          {
           "name": 1,
           "type": "string"
          },
          {
           "name": 2,
           "type": "string"
          },
          {
           "name": 3,
           "type": "string"
          },
          {
           "name": "ipydguuid",
           "type": "integer"
          }
         ],
         "pandas_version": "1.4.0",
         "primaryKey": [
          "key",
          "ipydguuid"
         ],
         "primaryKeyUuid": "ipydguuid"
        }
       },
       "_model_module_version": "^1.1.16",
       "_model_name": "DataGridModel",
       "_view_module_version": "^1.1.16",
       "auto_fit_columns": false,
       "auto_fit_params": {
        "area": "all",
        "numCols": null,
        "padding": 30
       },
       "base_column_header_size": 20,
       "base_column_size": 64,
       "base_row_header_size": 64,
       "base_row_size": 20,
       "default_renderer": "IPY_MODEL_a0a485db16bb4438a32c5297022f3f46",
       "editable": true,
       "header_visibility": "all",
       "layout": "IPY_MODEL_9b71f7909f1d44d298e1929f893299ea",
       "selection_mode": "cell"
      }
     },
     "6f264595ce474677a01ae319c17a4616": {
      "model_module": "@jupyter-widgets/controls",
      "model_module_version": "2.0.0",
      "model_name": "ButtonStyleModel",
      "state": {
       "font_family": null,
       "font_size": null,
       "font_style": null,
       "font_variant": null,
       "font_weight": null,
       "text_color": null,
       "text_decoration": null
      }
     },
     "6f424f7ffe134e3da1b60f0382dc5930": {
      "model_module": "@jupyter-widgets/controls",
      "model_module_version": "2.0.0",
      "model_name": "ButtonStyleModel",
      "state": {
       "font_family": null,
       "font_size": null,
       "font_style": null,
       "font_variant": null,
       "font_weight": null,
       "text_color": null,
       "text_decoration": null
      }
     },
     "6fd36f2b495046399a0e536955d487b6": {
      "model_module": "@jupyter-widgets/output",
      "model_module_version": "1.0.0",
      "model_name": "OutputModel",
      "state": {
       "layout": "IPY_MODEL_1d1ebbcd36e34e17b86dd40a8fe3b04b"
      }
     },
     "7193a26bbaab4926882581266f15f335": {
      "model_module": "@jupyter-widgets/controls",
      "model_module_version": "2.0.0",
      "model_name": "ButtonModel",
      "state": {
       "description": "Add Column",
       "layout": "IPY_MODEL_17fb57ed97c24998a53cd3d86920ab14",
       "style": "IPY_MODEL_6f264595ce474677a01ae319c17a4616",
       "tooltip": null
      }
     },
     "722cc770a01b4a4d8545fa9c702208d0": {
      "model_module": "@jupyter-widgets/controls",
      "model_module_version": "2.0.0",
      "model_name": "HBoxModel",
      "state": {
       "children": [
        "IPY_MODEL_a05e6ec824c74379998c46920daf3837",
        "IPY_MODEL_57cc7a29104f4e2b8810046de5509846",
        "IPY_MODEL_b43751d5eda646c191b9ee8e8ee72a1b",
        "IPY_MODEL_7193a26bbaab4926882581266f15f335",
        "IPY_MODEL_9e192c66cf114f29942ab540b6f2f425"
       ],
       "layout": "IPY_MODEL_3fa7655e1836404dbcdceb5da5dbd93c"
      }
     },
     "792de6cbba38495ca2c50ad64bb3ba97": {
      "model_module": "ipydatagrid",
      "model_module_version": "^1.1.16",
      "model_name": "VegaExprModel",
      "state": {
       "_model_module_version": "^1.1.16",
       "_view_module": "ipydatagrid",
       "_view_module_version": "^1.1.16",
       "_view_name": "VegaExprView"
      }
     },
     "7c0071f3941f445fb50e81764a0e624e": {
      "model_module": "@jupyter-widgets/controls",
      "model_module_version": "2.0.0",
      "model_name": "ButtonStyleModel",
      "state": {
       "font_family": null,
       "font_size": null,
       "font_style": null,
       "font_variant": null,
       "font_weight": null,
       "text_color": null,
       "text_decoration": null
      }
     },
     "7cd9692c5ffa499796a53673f573692d": {
      "model_module": "@jupyter-widgets/controls",
      "model_module_version": "2.0.0",
      "model_name": "VBoxModel",
      "state": {
       "children": [
        "IPY_MODEL_b43dba2f62e549bc9a83712aebf3d13d",
        "IPY_MODEL_6afdff6735754f6889f6556053becbd6",
        "IPY_MODEL_8072c22098964d068badb49979306ca8"
       ],
       "layout": "IPY_MODEL_574ce96fc183440b92d42a51778ffd84"
      }
     },
     "8072c22098964d068badb49979306ca8": {
      "model_module": "@jupyter-widgets/output",
      "model_module_version": "1.0.0",
      "model_name": "OutputModel",
      "state": {
       "layout": "IPY_MODEL_3bf2a4165dc4448dad170774de0cd885"
      }
     },
     "82fd4a997c10479eba75a2e7aa93ea69": {
      "model_module": "@jupyter-widgets/base",
      "model_module_version": "2.0.0",
      "model_name": "LayoutModel",
      "state": {}
     },
     "8ce76c76e96d435eb5b80bac29fed1b4": {
      "model_module": "@jupyter-widgets/base",
      "model_module_version": "2.0.0",
      "model_name": "LayoutModel",
      "state": {}
     },
     "95723452e5644ddf8f8ee139e4bad692": {
      "model_module": "@jupyter-widgets/controls",
      "model_module_version": "2.0.0",
      "model_name": "ButtonModel",
      "state": {
       "description": "Redo",
       "layout": "IPY_MODEL_5fc53a2ea23b449cbd8ca982d8f50fef",
       "style": "IPY_MODEL_ef3ee3c8d18d450ea541bb459473e684",
       "tooltip": null
      }
     },
     "9aad82104a12407aad11d2805ac21fc0": {
      "model_module": "@jupyter-widgets/controls",
      "model_module_version": "2.0.0",
      "model_name": "ButtonModel",
      "state": {
       "description": "Redo",
       "layout": "IPY_MODEL_9f0eaea6377e483f92a13dd95ae64572",
       "style": "IPY_MODEL_3f2b6dd394e340dda73504de2349b3a8",
       "tooltip": null
      }
     },
     "9b70b3e879fa49559d7a174c8f358f37": {
      "model_module": "@jupyter-widgets/controls",
      "model_module_version": "2.0.0",
      "model_name": "ButtonStyleModel",
      "state": {
       "font_family": null,
       "font_size": null,
       "font_style": null,
       "font_variant": null,
       "font_weight": null,
       "text_color": null,
       "text_decoration": null
      }
     },
     "9b71f7909f1d44d298e1929f893299ea": {
      "model_module": "@jupyter-widgets/base",
      "model_module_version": "2.0.0",
      "model_name": "LayoutModel",
      "state": {
       "height": "230px"
      }
     },
     "9e192c66cf114f29942ab540b6f2f425": {
      "model_module": "@jupyter-widgets/controls",
      "model_module_version": "2.0.0",
      "model_name": "ButtonModel",
      "state": {
       "description": "Generate Vectors",
       "layout": "IPY_MODEL_5e9173536c95413e93f158a0b23e259e",
       "style": "IPY_MODEL_324229cde0914dbdb1cb2b647061b71b",
       "tooltip": null
      }
     },
     "9f0eaea6377e483f92a13dd95ae64572": {
      "model_module": "@jupyter-widgets/base",
      "model_module_version": "2.0.0",
      "model_name": "LayoutModel",
      "state": {}
     },
     "a05e6ec824c74379998c46920daf3837": {
      "model_module": "@jupyter-widgets/controls",
      "model_module_version": "2.0.0",
      "model_name": "ButtonModel",
      "state": {
       "description": "Undo",
       "layout": "IPY_MODEL_59c509a84c6f4628a26af40f8799739f",
       "style": "IPY_MODEL_6f424f7ffe134e3da1b60f0382dc5930",
       "tooltip": null
      }
     },
     "a0a485db16bb4438a32c5297022f3f46": {
      "model_module": "ipydatagrid",
      "model_module_version": "^1.1.16",
      "model_name": "TextRendererModel",
      "state": {
       "_model_module_version": "^1.1.16",
       "_view_module_version": "^1.1.16",
       "background_color": "IPY_MODEL_07f5f60b43dd4748838e28e678849595",
       "text_color": "IPY_MODEL_abdaee666c3c4e4eaf991269523a2796"
      }
     },
     "a4815f1f08fc4c378df19a341a61c89c": {
      "model_module": "@jupyter-widgets/controls",
      "model_module_version": "2.0.0",
      "model_name": "ButtonModel",
      "state": {
       "description": "Add Row",
       "layout": "IPY_MODEL_3faff197ddf54b4dbd45cc74ea1f359d",
       "style": "IPY_MODEL_5c1b9fefe0954a939411c5574f936595",
       "tooltip": null
      }
     },
     "a597aae28a0d471dbc72688ef8f0533f": {
      "model_module": "@jupyter-widgets/base",
      "model_module_version": "2.0.0",
      "model_name": "LayoutModel",
      "state": {
       "height": "250px"
      }
     },
     "abd45aea9fe1406185a120d913662814": {
      "model_module": "@jupyter-widgets/controls",
      "model_module_version": "2.0.0",
      "model_name": "ButtonModel",
      "state": {
       "description": "Generate Vectors",
       "layout": "IPY_MODEL_f2a5a337c8d74a318cff3bb6a9244de2",
       "style": "IPY_MODEL_3a8c046e56ec46aab8e5f9782d031bf1",
       "tooltip": null
      }
     },
     "abdaee666c3c4e4eaf991269523a2796": {
      "model_module": "ipydatagrid",
      "model_module_version": "^1.1.16",
      "model_name": "VegaExprModel",
      "state": {
       "_model_module_version": "^1.1.16",
       "_view_module": "ipydatagrid",
       "_view_module_version": "^1.1.16",
       "_view_name": "VegaExprView"
      }
     },
     "b19ec162f5ff492091b248bc5b2a62f3": {
      "model_module": "@jupyter-widgets/base",
      "model_module_version": "2.0.0",
      "model_name": "LayoutModel",
      "state": {}
     },
     "b43751d5eda646c191b9ee8e8ee72a1b": {
      "model_module": "@jupyter-widgets/controls",
      "model_module_version": "2.0.0",
      "model_name": "ButtonModel",
      "state": {
       "description": "Add Row",
       "layout": "IPY_MODEL_82fd4a997c10479eba75a2e7aa93ea69",
       "style": "IPY_MODEL_0225ce9b24c34efe823b049bf448d0ad",
       "tooltip": null
      }
     },
     "b43dba2f62e549bc9a83712aebf3d13d": {
      "model_module": "@jupyter-widgets/controls",
      "model_module_version": "2.0.0",
      "model_name": "HBoxModel",
      "state": {
       "children": [
        "IPY_MODEL_fefbdafaffa3465abd671377e9e77429",
        "IPY_MODEL_95723452e5644ddf8f8ee139e4bad692",
        "IPY_MODEL_a4815f1f08fc4c378df19a341a61c89c",
        "IPY_MODEL_10e38fc613fa45c68aa386e28c206d85",
        "IPY_MODEL_6a082094a13a4f5d9a3180871467cfbc"
       ],
       "layout": "IPY_MODEL_c7d8b70251d1488392dc653af8737fad"
      }
     },
     "b9849c74285d41329de745084f9d691d": {
      "model_module": "ipydatagrid",
      "model_module_version": "^1.1.16",
      "model_name": "DataGridModel",
      "state": {
       "_data": {
        "data": [
         {
          "0": "Vs",
          "1": "Vr1",
          "2": "dVr1",
          "3": "I",
          "4": "dI",
          "ipydguuid": 0,
          "key": "  Variable:"
         },
         {
          "0": "V",
          "1": "V",
          "2": "V",
          "3": "A",
          "4": "A",
          "ipydguuid": 1,
          "key": " Units:"
         },
         {
          "0": "0",
          "1": "0",
          "2": "0.02",
          "3": "0",
          "4": "0.005",
          "ipydguuid": 2,
          "key": 0
         },
         {
          "0": "0.45",
          "1": "0.11",
          "2": "0.03",
          "3": "0.009",
          "4": "0.01",
          "ipydguuid": 3,
          "key": 1
         },
         {
          "0": "0.90",
          "1": "0.19",
          "2": "0.02",
          "3": "0.020",
          "4": "0.005",
          "ipydguuid": 4,
          "key": 2
         },
         {
          "0": "1.10",
          "1": "0.28",
          "2": "0.02",
          "3": "0.029",
          "4": "0.005",
          "ipydguuid": 5,
          "key": 3
         },
         {
          "0": "1.65",
          "1": "0.41",
          "2": "0.03",
          "3": "0.043",
          "4": "0.01",
          "ipydguuid": 6,
          "key": 4
         },
         {
          "0": "2.10",
          "1": "0.53",
          "2": "0.02",
          "3": "0.053",
          "4": "0.005",
          "ipydguuid": 7,
          "key": 5
         },
         {
          "0": "2.70",
          "1": "0.67",
          "2": "0.03",
          "3": "0.070",
          "4": "0.01",
          "ipydguuid": 8,
          "key": 6
         },
         {
          "0": "3.2",
          "1": "0.80",
          "2": "0.03",
          "3": "0.078",
          "4": "0.01",
          "ipydguuid": 9,
          "key": 7
         }
        ],
        "fields": [
         {
          "key": null
         },
         {
          "0": null
         },
         {
          "1": null
         },
         {
          "2": null
         },
         {
          "3": null
         },
         {
          "4": null
         },
         {
          "ipydguuid": null
         }
        ],
        "schema": {
         "fields": [
          {
           "name": "key",
           "type": "string"
          },
          {
           "name": 0,
           "type": "string"
          },
          {
           "name": 1,
           "type": "string"
          },
          {
           "name": 2,
           "type": "string"
          },
          {
           "name": 3,
           "type": "string"
          },
          {
           "name": 4,
           "type": "string"
          },
          {
           "name": "ipydguuid",
           "type": "integer"
          }
         ],
         "pandas_version": "1.4.0",
         "primaryKey": [
          "key",
          "ipydguuid"
         ],
         "primaryKeyUuid": "ipydguuid"
        }
       },
       "_model_module_version": "^1.1.16",
       "_model_name": "DataGridModel",
       "_view_module_version": "^1.1.16",
       "auto_fit_columns": false,
       "auto_fit_params": {
        "area": "all",
        "numCols": null,
        "padding": 30
       },
       "base_column_header_size": 20,
       "base_column_size": 64,
       "base_row_header_size": 64,
       "base_row_size": 20,
       "default_renderer": "IPY_MODEL_b98a76018dad4c39bf55722e6a576e28",
       "editable": true,
       "header_visibility": "all",
       "layout": "IPY_MODEL_a597aae28a0d471dbc72688ef8f0533f",
       "selection_mode": "cell"
      }
     },
     "b98a76018dad4c39bf55722e6a576e28": {
      "model_module": "ipydatagrid",
      "model_module_version": "^1.1.16",
      "model_name": "TextRendererModel",
      "state": {
       "_model_module_version": "^1.1.16",
       "_view_module_version": "^1.1.16",
       "background_color": "IPY_MODEL_05b72223df2e4f9ba1f2b23c7542ca03",
       "text_color": "IPY_MODEL_792de6cbba38495ca2c50ad64bb3ba97"
      }
     },
     "bab6628d38b342478afe82502c7538b5": {
      "model_module": "@jupyter-widgets/controls",
      "model_module_version": "2.0.0",
      "model_name": "ButtonStyleModel",
      "state": {
       "font_family": null,
       "font_size": null,
       "font_style": null,
       "font_variant": null,
       "font_weight": null,
       "text_color": null,
       "text_decoration": null
      }
     },
     "beaaac6dddc94388a4a21a8df8752461": {
      "model_module": "@jupyter-widgets/base",
      "model_module_version": "2.0.0",
      "model_name": "LayoutModel",
      "state": {}
     },
     "c7d8b70251d1488392dc653af8737fad": {
      "model_module": "@jupyter-widgets/base",
      "model_module_version": "2.0.0",
      "model_name": "LayoutModel",
      "state": {}
     },
     "c9b660c6fd7648e1ace4d665abda97f5": {
      "model_module": "@jupyter-widgets/controls",
      "model_module_version": "2.0.0",
      "model_name": "ButtonStyleModel",
      "state": {
       "font_family": null,
       "font_size": null,
       "font_style": null,
       "font_variant": null,
       "font_weight": null,
       "text_color": null,
       "text_decoration": null
      }
     },
     "cdd02f7fd16e47a5ac1a31f936a29f60": {
      "model_module": "ipydatagrid",
      "model_module_version": "^1.1.16",
      "model_name": "DataGridModel",
      "state": {
       "_data": {
        "data": [
         {
          "0": "",
          "1": "",
          "2": "",
          "ipydguuid": 0,
          "key": "  Variable:"
         },
         {
          "0": "",
          "1": "",
          "2": "",
          "ipydguuid": 1,
          "key": " Units:"
         },
         {
          "0": "",
          "1": "",
          "2": "",
          "ipydguuid": 2,
          "key": 0
         },
         {
          "0": "",
          "1": "",
          "2": "",
          "ipydguuid": 3,
          "key": 1
         },
         {
          "0": "",
          "1": "",
          "2": "",
          "ipydguuid": 4,
          "key": 2
         },
         {
          "0": "",
          "1": "",
          "2": "",
          "ipydguuid": 5,
          "key": 3
         },
         {
          "0": "",
          "1": "",
          "2": "",
          "ipydguuid": 6,
          "key": 4
         },
         {
          "0": "",
          "1": "",
          "2": "",
          "ipydguuid": 7,
          "key": 5
         },
         {
          "0": "",
          "1": "",
          "2": "",
          "ipydguuid": 8,
          "key": 6
         },
         {
          "0": "",
          "1": "",
          "2": "",
          "ipydguuid": 9,
          "key": 7
         }
        ],
        "fields": [
         {
          "key": null
         },
         {
          "0": null
         },
         {
          "1": null
         },
         {
          "2": null
         },
         {
          "ipydguuid": null
         }
        ],
        "schema": {
         "fields": [
          {
           "name": "key",
           "type": "string"
          },
          {
           "name": 0,
           "type": "string"
          },
          {
           "name": 1,
           "type": "string"
          },
          {
           "name": 2,
           "type": "string"
          },
          {
           "name": "ipydguuid",
           "type": "integer"
          }
         ],
         "pandas_version": "1.4.0",
         "primaryKey": [
          "key",
          "ipydguuid"
         ],
         "primaryKeyUuid": "ipydguuid"
        }
       },
       "_model_module_version": "^1.1.16",
       "_model_name": "DataGridModel",
       "_view_module_version": "^1.1.16",
       "auto_fit_columns": false,
       "auto_fit_params": {
        "area": "all",
        "numCols": null,
        "padding": 30
       },
       "base_column_header_size": 20,
       "base_column_size": 64,
       "base_row_header_size": 64,
       "base_row_size": 20,
       "default_renderer": "IPY_MODEL_5e1e6efbb2fa46afab762b0266d7cd92",
       "editable": true,
       "header_visibility": "all",
       "layout": "IPY_MODEL_54894fbfba654f6c80915a53153f2733",
       "selection_mode": "cell"
      }
     },
     "d1a4d12a2f2b4f7b99c9b1cf0545db96": {
      "model_module": "@jupyter-widgets/controls",
      "model_module_version": "2.0.0",
      "model_name": "ButtonModel",
      "state": {
       "description": "Add Row",
       "layout": "IPY_MODEL_44c1cfcb9ded4fc19eb2bd282e46b97e",
       "style": "IPY_MODEL_c9b660c6fd7648e1ace4d665abda97f5",
       "tooltip": null
      }
     },
     "e0c2af9ccc7843dd829eec37b7831fb0": {
      "model_module": "@jupyter-widgets/output",
      "model_module_version": "1.0.0",
      "model_name": "OutputModel",
      "state": {
       "layout": "IPY_MODEL_1fa1e07d601d48889fb1095c77e602b4"
      }
     },
     "ea170c12f810475e93ae43f5facf5bf5": {
      "model_module": "ipydatagrid",
      "model_module_version": "^1.1.16",
      "model_name": "VegaExprModel",
      "state": {
       "_model_module_version": "^1.1.16",
       "_view_module": "ipydatagrid",
       "_view_module_version": "^1.1.16",
       "_view_name": "VegaExprView"
      }
     },
     "eca316377de549bb9aea1d338303363b": {
      "model_module": "@jupyter-widgets/controls",
      "model_module_version": "2.0.0",
      "model_name": "HBoxModel",
      "state": {
       "children": [
        "IPY_MODEL_48a097d266a84a64aad83e09834f8047",
        "IPY_MODEL_9aad82104a12407aad11d2805ac21fc0",
        "IPY_MODEL_d1a4d12a2f2b4f7b99c9b1cf0545db96",
        "IPY_MODEL_f6c272248ec544a19708f31b44c2c2f9",
        "IPY_MODEL_abd45aea9fe1406185a120d913662814"
       ],
       "layout": "IPY_MODEL_8ce76c76e96d435eb5b80bac29fed1b4"
      }
     },
     "ef3ee3c8d18d450ea541bb459473e684": {
      "model_module": "@jupyter-widgets/controls",
      "model_module_version": "2.0.0",
      "model_name": "ButtonStyleModel",
      "state": {
       "font_family": null,
       "font_size": null,
       "font_style": null,
       "font_variant": null,
       "font_weight": null,
       "text_color": null,
       "text_decoration": null
      }
     },
     "f2a5a337c8d74a318cff3bb6a9244de2": {
      "model_module": "@jupyter-widgets/base",
      "model_module_version": "2.0.0",
      "model_name": "LayoutModel",
      "state": {}
     },
     "f4f0316a79a84083b6c9ea9abf5bf25a": {
      "model_module": "@jupyter-widgets/base",
      "model_module_version": "2.0.0",
      "model_name": "LayoutModel",
      "state": {}
     },
     "f6c272248ec544a19708f31b44c2c2f9": {
      "model_module": "@jupyter-widgets/controls",
      "model_module_version": "2.0.0",
      "model_name": "ButtonModel",
      "state": {
       "description": "Add Column",
       "layout": "IPY_MODEL_3f37ed9f365949efbfdf5dd3352c9b84",
       "style": "IPY_MODEL_bab6628d38b342478afe82502c7538b5",
       "tooltip": null
      }
     },
     "fb44c94a00d54a79a334aa843751ef91": {
      "model_module": "@jupyter-widgets/base",
      "model_module_version": "2.0.0",
      "model_name": "LayoutModel",
      "state": {}
     },
     "fefbdafaffa3465abd671377e9e77429": {
      "model_module": "@jupyter-widgets/controls",
      "model_module_version": "2.0.0",
      "model_name": "ButtonModel",
      "state": {
       "description": "Undo",
       "layout": "IPY_MODEL_fb44c94a00d54a79a334aa843751ef91",
       "style": "IPY_MODEL_5ceb0af73fad4a538891f08ec2d7ae79",
       "tooltip": null
      }
     },
     "ffe5f6cb095a462498e22bbea9e17d00": {
      "model_module": "@jupyter-widgets/base",
      "model_module_version": "2.0.0",
      "model_name": "LayoutModel",
      "state": {}
     }
    },
    "version_major": 2,
    "version_minor": 0
   }
  }
 },
 "nbformat": 4,
 "nbformat_minor": 5
}
