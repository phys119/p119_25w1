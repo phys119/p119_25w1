{
 "cells": [
  {
   "attachments": {},
   "cell_type": "markdown",
   "id": "2c32fb06-bb63-49c1-aa51-125a423b0747",
   "metadata": {},
   "source": [
    "# Lab 06 – demo notebook"
   ]
  },
  {
   "cell_type": "markdown",
   "id": "b3318975",
   "metadata": {},
   "source": [
    "<span style=\"color: red;\">**Do not read through this notebook until after the Lab 06 invention activity is done in class.**</span>"
   ]
  },
  {
   "cell_type": "markdown",
   "id": "3d3a41a1-dc68-44ba-aa3a-b1e40f82fd93",
   "metadata": {},
   "source": [
    "## 1. Load the libraries and the data to fit"
   ]
  },
  {
   "cell_type": "code",
   "execution_count": null,
   "id": "be5b35ac-3c4e-42d4-b63a-46d7c26153a6",
   "metadata": {},
   "outputs": [],
   "source": [
    "%reset -f\n",
    "%matplotlib widget\n",
    "import data_entry2\n",
    "import numpy as np\n",
    "import matplotlib.pyplot as plt\n",
    "import fit_plot\n"
   ]
  },
  {
   "cell_type": "code",
   "execution_count": null,
   "id": "f1759948-cdb0-4a74-8d7b-3a78feead5c5",
   "metadata": {},
   "outputs": [],
   "source": [
    "# Load the data used for Prelab 05.\n",
    "de1 = data_entry2.sheet_copy(\n",
    "    \"../../Lab05/prelab05_hookes_law\", \"demo_copy-prelab05_hookes_law\"\n",
    "    )"
   ]
  },
  {
   "cell_type": "markdown",
   "id": "24cbc267-7494-437f-be47-1f008ba015cd",
   "metadata": {},
   "source": [
    "## 2. Chi-square minimization (also known as *weighted least squares*)"
   ]
  },
  {
   "cell_type": "markdown",
   "id": "4d7a45c0",
   "metadata": {},
   "source": [
    "**Chi-square minimization** (or **weighted least squares**) is a method used for finding the **best-fitting parameters** of a model when fitting data."
   ]
  },
  {
   "cell_type": "markdown",
   "id": "28bddb44-72ef-4ad7-8d1b-3676ea4768ae",
   "metadata": {},
   "source": [
    "In the following code, adding the argument `chi2 = True` to `fit_plot.line` enables the `Chi2` output (note that `fit_plot.line` returns the **reduced chi-square** $\\chi^2_\\mathrm{red}$ as seen in class during the invention activity). \n",
    "\n",
    "Try to minimize the value for $\\chi^2_\\mathrm{red}$ using a combination of clicking within the scatter plot, within the residuals plot, and updating the values manually using the text boxes. You should be able to find a combination of parameters that gets you to a $\\chi^2_\\mathrm{red}$ value that is slightly below 0.5. You can also check the answer in the cell that follows the fitting widget. "
   ]
  },
  {
   "cell_type": "code",
   "execution_count": null,
   "id": "2f724d49-5bb1-4f5b-b1d6-b843f93cb7c5",
   "metadata": {},
   "outputs": [],
   "source": [
    "x_data = delta_xVec\n",
    "y_data = f_sVec\n",
    "del_y_data = del_f_sVec\n",
    "del_x_data = del_delta_xVec\n",
    "unique_graph_title = \"Chi-square minimization for Prelab 05 data\"\n",
    "\n",
    "fit_plot.line(unique_graph_title, x_data, y_data, del_y_data, chi2=True)"
   ]
  },
  {
   "cell_type": "markdown",
   "id": "d94f2c7b-51b3-47f3-8bbb-9ecbaf13acdb",
   "metadata": {
    "jp-MarkdownHeadingCollapsed": true
   },
   "source": [
    "#### Answer: best-fitting model parameters"
   ]
  },
  {
   "cell_type": "markdown",
   "id": "d4ce9d92-dfc9-42cc-a104-149e3f259ee8",
   "metadata": {},
   "source": [
    "The best-fitting parameters are `Slope = 2.08` and `Intercept = 0.0045`, which gives a $\\chi^2_\\mathrm{red}$ of 0.66."
   ]
  },
  {
   "attachments": {},
   "cell_type": "markdown",
   "id": "e81b32e1-9d7f-4eed-a638-02fea2b9a862",
   "metadata": {
    "tags": []
   },
   "source": [
    "## 3. Estimate the uncertainty in the slope using the reduced chi-square"
   ]
  },
  {
   "cell_type": "markdown",
   "id": "0e984380-a4a1-42bd-9426-19939e35b625",
   "metadata": {},
   "source": [
    "Our new statistic for goodness-of-fit testing, $\\chi^2_\\mathrm{red}$, allows us to use an improved method to determine the uncertainty in the slope, which we will demonstrate below.\n",
    "\n",
    "To find `slope_max` and `slope_min`, keep the `Intercept` value **fixed** at the one you found for the best-fitting line, and then adjust the `Slope` up and down (using the text box, not by clicking on the graph) to approximately double the value of $\\chi^2_\\mathrm{red}$ as compared to the one for the best fit. This provides the 68% Confidence Interval for the slope, which you can divide by 2 to get the standard uncertainty in the slope."
   ]
  },
  {
   "attachments": {},
   "cell_type": "markdown",
   "id": "f29535a9",
   "metadata": {},
   "source": [
    "The steps:\n",
    "1. The best estimate of your slope will be the one from your best-fitting model above with the lowest $\\chi^2_\\mathrm{red}$. In this example the best-fitting model is `Slope = 2.08 N/m` and `Intercept = 0.0045 m`, which corresponds to a $\\chi^2_\\mathrm{red}$ of 0.66.\n",
    "2. While keeping `Intercept` fixed at `0.0045 m`, we adjust the `Slope` upward until our $\\chi^2_\\mathrm{red}$ is approximately $2 \\times 0.66$, which is 1.32. Being within 5% of this value (so ~ 1.25 - 1.39) is precise enough so we can use `slope_max = 2.148 N/m`, which gives a $\\chi^2_\\mathrm{red}$ of 1.33. Notice how the residuals for this fit look consistent with how we have described `slope_max` in the past. \n",
    "3. Take the slope back to the `best_fit` value of `2.09 N/m` while continuing to keep `Intercept` fixed. Now we adjust the `Slope` downward until it gives a $\\chi^2_\\mathrm{red}$ of approximately 1.32. Here we find `slope_min = 2.013 N/m` corresponds to $\\chi^2_\\mathrm{red}$ = 1.32.\n",
    "4. The best estimate of the standard uncertainty of the slope is half of the difference between `slope_max` and `slope_min` (the 68% Confidence Interval for the slope), where each of these slopes were found by adjusting the `Slope` until $\\chi^2_\\mathrm{red}$ doubled, approximately. We then additionally apply a factor of $1/\\sqrt{N}$ to include the precision benefits of taking more measurements.\n",
    "\n",
    "The code below details these calculations."
   ]
  },
  {
   "cell_type": "code",
   "execution_count": null,
   "id": "5cacb11d-3544-49d4-a209-1facf595ab7c",
   "metadata": {},
   "outputs": [],
   "source": [
    "# Calculate the uncertainty in the slope (all slope values correspond to a fit \n",
    "# using intercept = 0.0045 m).\n",
    "\n",
    "slope_best = 2.08  # Chi2: 0.66\n",
    "slope_max = 2.15  # Chi2: 1.33 (approximately 2*0.66)\n",
    "slope_min = 2.013  # Chi2: 1.32 (approximately 2*0.66)\n",
    "N = len(x_data)\n",
    "\n",
    "del_slope = (slope_max - slope_min) / (2 * np.sqrt(N))\n",
    "\n",
    "print(\"del_slope = \" + str(del_slope))  # raw python result\n",
    "\n",
    "# Report the slope value and the uncertainty in the slope.\n",
    "\n",
    "print(f\"Uncertainty in the slope: {del_slope:g} N/m\")\n",
    "\n",
    "print(\n",
    "    f\"The best-fitting slope is: {slope_best:g}\"\n",
    "    f\" ± {del_slope:g} N/m\"\n",
    "    )"
   ]
  },
  {
   "attachments": {},
   "cell_type": "markdown",
   "id": "6e1c86b1-46d3-4972-a276-3e3da5951cd4",
   "metadata": {},
   "source": [
    "**Reporting results:** Our best estimate of the slope is 2.080 $\\pm$ 0.026 N/m."
   ]
  },
  {
   "cell_type": "markdown",
   "id": "a0d1cf61-e934-4033-a03c-edcafb44ebb4",
   "metadata": {},
   "source": [
    "## 4. Scatter plot and residual plot with complete $\\chi^2_\\mathrm{red}$ analysis"
   ]
  },
  {
   "cell_type": "markdown",
   "id": "4ff0966b",
   "metadata": {},
   "source": [
    "In general, when analyzing your experimental results (i.e. when copying this code over to your lab notebook), for this code to work, you must perform:\n",
    "\n",
    "- Chi-square minimization to find the best-fitting parameters (2. above),\n",
    "- Estimate the uncertainty in the slope using the reduced chi-square (3. above),\n",
    "\n",
    " and then update the values in the code below."
   ]
  },
  {
   "cell_type": "markdown",
   "id": "6744a350-e4b3-4770-94d1-fb25f5660e44",
   "metadata": {},
   "source": [
    "This code prints out a handy \"FIT REPORT\" that you can use in your analysis/comparison/conclusion parts of your lab notebook."
   ]
  },
  {
   "cell_type": "code",
   "execution_count": null,
   "id": "35f071ad",
   "metadata": {},
   "outputs": [],
   "source": [
    "# LINEAR MODEL + REDUCED CHI-SQUARE ANALYSIS\n",
    "\n",
    "# Model – step 1: find the range of x values from the experimental data.\n",
    "x_data = delta_xVec\n",
    "y_data = f_sVec\n",
    "del_y_data = del_f_sVec\n",
    "del_x_data = del_delta_xVec\n",
    "x_min = np.min(x_data)  # find the smallest x value\n",
    "x_max = np.max(x_data)  # find the largest x value\n",
    "\n",
    "# Model – step 2: generate an array of model x values between x_min and x_max\n",
    "# for which we want to plot the model y values.\n",
    "x_model = np.linspace(\n",
    "    start=x_min, stop=x_max, num=200\n",
    "    )  # return 200 evenly spaced values\n",
    "\n",
    "# Model – step 3: calculate the model y values at each of the model x values.\n",
    "# Choose best-fitting values for the linear model.\n",
    "m = 2.08\n",
    "b = 0.0045\n",
    "y_model = m * x_model + b\n",
    "\n",
    "# Model – step 4: plot the model on the graph of the experimental data.\n",
    "# Create a figure and a set of subplots and reference them in the\n",
    "# variables \"fig\" and \"axs\".\n",
    "fig, axs = plt.subplots(\n",
    "    nrows=2, ncols=1, squeeze=False,\n",
    "    height_ratios=[1.75, 1], figsize=(6, 8)\n",
    "    )  # do not change\n",
    "\n",
    "data_label = \"data\"\n",
    "graph_title = \"Spring data with the best-fitting curve from a linear model\"\n",
    "x_label = \"Displacement of spring from equilibrium (m)\"\n",
    "y_label = \"Force (N)\"\n",
    "axs[0, 0].errorbar(\n",
    "    x=x_data, y=y_data, yerr=del_y_data,\n",
    "    fmt='bo', markersize=3, label=data_label\n",
    "    )  # plot experimental data\n",
    "axs[0, 0].set_title(graph_title)\n",
    "axs[0, 0].set_xlabel(x_label)\n",
    "axs[0, 0].set_ylabel(y_label)\n",
    "\n",
    "model_label = \"model ($y = mx + b$)\"\n",
    "axs[0, 0].plot(x_model, y_model, \"r-\", label=model_label)  # plot model data\n",
    "# Add a legend (you can change the location as needed)\n",
    "axs[0, 0].legend(loc='upper left')\n",
    "\n",
    "# Residuals – step 1: calculate the model predictions y_prediction for each of\n",
    "# the measured x_data values.\n",
    "y_prediction = m * x_data + b\n",
    "\n",
    "# Residuals – step 2: calculate the residuals.\n",
    "residuals = y_data - y_prediction\n",
    "\n",
    "# Residuals – step 3: plot the residuals against the measured x_data values.\n",
    "residual_graph_title = \"Corresponding residuals\"\n",
    "residual_y_label = \"residual = data - model (N)\"\n",
    "axs[1, 0].errorbar(\n",
    "    x=x_data, y=residuals, yerr=del_y_data,\n",
    "    fmt='bo', markersize=3, label=data_label\n",
    "    )\n",
    "axs[1, 0].set_title(residual_graph_title)\n",
    "axs[1, 0].set_xlabel(x_label)  # reuse the x-label from the scatter plot\n",
    "axs[1, 0].set_ylabel(residual_y_label)\n",
    "\n",
    "# Residuals – step 4: add a horizontal line at r=0 to the plot.\n",
    "axs[1, 0].hlines(y=0, xmin=x_min, xmax=x_max, color='k', label=\"$r = 0$\")\n",
    "# Add a legend (you can change the location as needed)\n",
    "axs[1, 0].legend(loc='lower left', fontsize='small')\n",
    "\n",
    "plt.tight_layout()  # adjust the padding between and around subplots\n",
    "plt.show()\n",
    "\n",
    "\n",
    "# Summary of the reduced chi-square analysis.\n",
    "\n",
    "# Report the values from your estimate of the uncertainty in the slope using\n",
    "# the fit_plot.line widget and doubling the reduced chi-square.\n",
    "m_max = 2.15  # slope_max\n",
    "m_min = 2.013  # slope_min\n",
    "N = len(x_data)\n",
    "\n",
    "# Calculate the uncertainty in the slope.\n",
    "del_m = (m_max - m_min) / (2 * np.sqrt(N))\n",
    "\n",
    "# Define the number of fitting parameters (\"P\" in the reduced chi-square\n",
    "# formula).\n",
    "number_params = 2  # slope and y-intercept\n",
    "\n",
    "# Calculate the reduced chi-square.\n",
    "reduced_chi_square = 1 / (len(residuals) - number_params) * np.sum(\n",
    "    (residuals / del_y_data)**2\n",
    "    )\n",
    "\n",
    "# Advanced code for creating a fit report in Python with the right number of \n",
    "# decimals (for the best value) and significant figures (for the uncertainty).\n",
    "\n",
    "# Note that in the printed report, the number in parentheses next to the\n",
    "# uncertainty in the slope is the associated relative uncertainty\n",
    "# (expressed as a percentage).\n",
    "\n",
    "m_units = \"N/m\"\n",
    "b_units = \"N\"\n",
    "\n",
    "# You should not need to modify this part of the code.\n",
    "\n",
    "SIG_FIGS = 2  # constant in our class\n",
    "\n",
    "print(\"FIT REPORT\")\n",
    "print(\"[Model]\")\n",
    "print(f\"{'':<4}\"\"Linear model: y = mx + b\")\n",
    "print(\"[Fit Statistics]\")\n",
    "print(f\"{'':<4}{'# fitting method':<18}: chi-square minimization\")\n",
    "print(f\"{'':<4}{'# data points':<18}{': N = ' + str(N):<5}\")\n",
    "print(f\"{'':<4}{'# parameters':<18}{': P = ' + str(number_params):<5}\")\n",
    "print(f\"{'':<4}\"f\"reduced chi-square = {reduced_chi_square:.{SIG_FIGS}f}\")\n",
    "print(\"[Parameters (best-fitting values)]\")\n",
    "print(\n",
    "    f\"{'':<4}{'slope: m = ':>17}{m:<10g}{' ± ':<3}\"\n",
    "    f\"{del_m:<10g}{m_units:<5} ({del_m / m * 100:.{SIG_FIGS}f}%)\"\n",
    "    )\n",
    "print(f\"{'':<4}{'y-intercept: b = ':>17}{b:<10g}{'':<3}{'':<10}{b_units:<5}\")"
   ]
  }
 ],
 "metadata": {
  "kernelspec": {
   "display_name": "phys119",
   "language": "python",
   "name": "python3"
  },
  "language_info": {
   "codemirror_mode": {
    "name": "ipython",
    "version": 3
   },
   "file_extension": ".py",
   "mimetype": "text/x-python",
   "name": "python",
   "nbconvert_exporter": "python",
   "pygments_lexer": "ipython3",
   "version": "3.10.16"
  },
  "widgets": {
   "application/vnd.jupyter.widget-state+json": {
    "state": {},
    "version_major": 2,
    "version_minor": 0
   }
  }
 },
 "nbformat": 4,
 "nbformat_minor": 5
}
